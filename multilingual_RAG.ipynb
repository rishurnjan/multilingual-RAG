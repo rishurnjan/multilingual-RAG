{
  "nbformat": 4,
  "nbformat_minor": 0,
  "metadata": {
    "colab": {
      "provenance": [],
      "authorship_tag": "ABX9TyNBRj+KvQuGLxRexrMQwgl6",
      "include_colab_link": true
    },
    "kernelspec": {
      "name": "python3",
      "display_name": "Python 3"
    },
    "language_info": {
      "name": "python"
    },
    "widgets": {
      "application/vnd.jupyter.widget-state+json": {
        "22731ff5f7844586b3056d373a3c5023": {
          "model_module": "@jupyter-widgets/controls",
          "model_name": "HBoxModel",
          "model_module_version": "1.5.0",
          "state": {
            "_dom_classes": [],
            "_model_module": "@jupyter-widgets/controls",
            "_model_module_version": "1.5.0",
            "_model_name": "HBoxModel",
            "_view_count": null,
            "_view_module": "@jupyter-widgets/controls",
            "_view_module_version": "1.5.0",
            "_view_name": "HBoxView",
            "box_style": "",
            "children": [
              "IPY_MODEL_dfb882469d4a45bcbfc176871a9344cd",
              "IPY_MODEL_0b901738b7cb44c59dba2d43c8610505",
              "IPY_MODEL_47da049b25c7499e84078785bfc9fc99"
            ],
            "layout": "IPY_MODEL_5e9c51f8c26e4bc18fa10c100a74a368"
          }
        },
        "dfb882469d4a45bcbfc176871a9344cd": {
          "model_module": "@jupyter-widgets/controls",
          "model_name": "HTMLModel",
          "model_module_version": "1.5.0",
          "state": {
            "_dom_classes": [],
            "_model_module": "@jupyter-widgets/controls",
            "_model_module_version": "1.5.0",
            "_model_name": "HTMLModel",
            "_view_count": null,
            "_view_module": "@jupyter-widgets/controls",
            "_view_module_version": "1.5.0",
            "_view_name": "HTMLView",
            "description": "",
            "description_tooltip": null,
            "layout": "IPY_MODEL_e43524a08c0640f98ab73b648ade020f",
            "placeholder": "​",
            "style": "IPY_MODEL_07571040cd164232aa600d975b18e3e7",
            "value": "tokenizer_config.json: 100%"
          }
        },
        "0b901738b7cb44c59dba2d43c8610505": {
          "model_module": "@jupyter-widgets/controls",
          "model_name": "FloatProgressModel",
          "model_module_version": "1.5.0",
          "state": {
            "_dom_classes": [],
            "_model_module": "@jupyter-widgets/controls",
            "_model_module_version": "1.5.0",
            "_model_name": "FloatProgressModel",
            "_view_count": null,
            "_view_module": "@jupyter-widgets/controls",
            "_view_module_version": "1.5.0",
            "_view_name": "ProgressView",
            "bar_style": "success",
            "description": "",
            "description_tooltip": null,
            "layout": "IPY_MODEL_3b244ebd86414844b90890fc71ca6dac",
            "max": 49,
            "min": 0,
            "orientation": "horizontal",
            "style": "IPY_MODEL_084e31a1cafb4a73b07ca91611f37119",
            "value": 49
          }
        },
        "47da049b25c7499e84078785bfc9fc99": {
          "model_module": "@jupyter-widgets/controls",
          "model_name": "HTMLModel",
          "model_module_version": "1.5.0",
          "state": {
            "_dom_classes": [],
            "_model_module": "@jupyter-widgets/controls",
            "_model_module_version": "1.5.0",
            "_model_name": "HTMLModel",
            "_view_count": null,
            "_view_module": "@jupyter-widgets/controls",
            "_view_module_version": "1.5.0",
            "_view_name": "HTMLView",
            "description": "",
            "description_tooltip": null,
            "layout": "IPY_MODEL_0c0b40e25bad46a695c70486aafa64e2",
            "placeholder": "​",
            "style": "IPY_MODEL_f09cf7998cc74e29b4cae22d37f9b1bf",
            "value": " 49.0/49.0 [00:00&lt;00:00, 539B/s]"
          }
        },
        "5e9c51f8c26e4bc18fa10c100a74a368": {
          "model_module": "@jupyter-widgets/base",
          "model_name": "LayoutModel",
          "model_module_version": "1.2.0",
          "state": {
            "_model_module": "@jupyter-widgets/base",
            "_model_module_version": "1.2.0",
            "_model_name": "LayoutModel",
            "_view_count": null,
            "_view_module": "@jupyter-widgets/base",
            "_view_module_version": "1.2.0",
            "_view_name": "LayoutView",
            "align_content": null,
            "align_items": null,
            "align_self": null,
            "border": null,
            "bottom": null,
            "display": null,
            "flex": null,
            "flex_flow": null,
            "grid_area": null,
            "grid_auto_columns": null,
            "grid_auto_flow": null,
            "grid_auto_rows": null,
            "grid_column": null,
            "grid_gap": null,
            "grid_row": null,
            "grid_template_areas": null,
            "grid_template_columns": null,
            "grid_template_rows": null,
            "height": null,
            "justify_content": null,
            "justify_items": null,
            "left": null,
            "margin": null,
            "max_height": null,
            "max_width": null,
            "min_height": null,
            "min_width": null,
            "object_fit": null,
            "object_position": null,
            "order": null,
            "overflow": null,
            "overflow_x": null,
            "overflow_y": null,
            "padding": null,
            "right": null,
            "top": null,
            "visibility": null,
            "width": null
          }
        },
        "e43524a08c0640f98ab73b648ade020f": {
          "model_module": "@jupyter-widgets/base",
          "model_name": "LayoutModel",
          "model_module_version": "1.2.0",
          "state": {
            "_model_module": "@jupyter-widgets/base",
            "_model_module_version": "1.2.0",
            "_model_name": "LayoutModel",
            "_view_count": null,
            "_view_module": "@jupyter-widgets/base",
            "_view_module_version": "1.2.0",
            "_view_name": "LayoutView",
            "align_content": null,
            "align_items": null,
            "align_self": null,
            "border": null,
            "bottom": null,
            "display": null,
            "flex": null,
            "flex_flow": null,
            "grid_area": null,
            "grid_auto_columns": null,
            "grid_auto_flow": null,
            "grid_auto_rows": null,
            "grid_column": null,
            "grid_gap": null,
            "grid_row": null,
            "grid_template_areas": null,
            "grid_template_columns": null,
            "grid_template_rows": null,
            "height": null,
            "justify_content": null,
            "justify_items": null,
            "left": null,
            "margin": null,
            "max_height": null,
            "max_width": null,
            "min_height": null,
            "min_width": null,
            "object_fit": null,
            "object_position": null,
            "order": null,
            "overflow": null,
            "overflow_x": null,
            "overflow_y": null,
            "padding": null,
            "right": null,
            "top": null,
            "visibility": null,
            "width": null
          }
        },
        "07571040cd164232aa600d975b18e3e7": {
          "model_module": "@jupyter-widgets/controls",
          "model_name": "DescriptionStyleModel",
          "model_module_version": "1.5.0",
          "state": {
            "_model_module": "@jupyter-widgets/controls",
            "_model_module_version": "1.5.0",
            "_model_name": "DescriptionStyleModel",
            "_view_count": null,
            "_view_module": "@jupyter-widgets/base",
            "_view_module_version": "1.2.0",
            "_view_name": "StyleView",
            "description_width": ""
          }
        },
        "3b244ebd86414844b90890fc71ca6dac": {
          "model_module": "@jupyter-widgets/base",
          "model_name": "LayoutModel",
          "model_module_version": "1.2.0",
          "state": {
            "_model_module": "@jupyter-widgets/base",
            "_model_module_version": "1.2.0",
            "_model_name": "LayoutModel",
            "_view_count": null,
            "_view_module": "@jupyter-widgets/base",
            "_view_module_version": "1.2.0",
            "_view_name": "LayoutView",
            "align_content": null,
            "align_items": null,
            "align_self": null,
            "border": null,
            "bottom": null,
            "display": null,
            "flex": null,
            "flex_flow": null,
            "grid_area": null,
            "grid_auto_columns": null,
            "grid_auto_flow": null,
            "grid_auto_rows": null,
            "grid_column": null,
            "grid_gap": null,
            "grid_row": null,
            "grid_template_areas": null,
            "grid_template_columns": null,
            "grid_template_rows": null,
            "height": null,
            "justify_content": null,
            "justify_items": null,
            "left": null,
            "margin": null,
            "max_height": null,
            "max_width": null,
            "min_height": null,
            "min_width": null,
            "object_fit": null,
            "object_position": null,
            "order": null,
            "overflow": null,
            "overflow_x": null,
            "overflow_y": null,
            "padding": null,
            "right": null,
            "top": null,
            "visibility": null,
            "width": null
          }
        },
        "084e31a1cafb4a73b07ca91611f37119": {
          "model_module": "@jupyter-widgets/controls",
          "model_name": "ProgressStyleModel",
          "model_module_version": "1.5.0",
          "state": {
            "_model_module": "@jupyter-widgets/controls",
            "_model_module_version": "1.5.0",
            "_model_name": "ProgressStyleModel",
            "_view_count": null,
            "_view_module": "@jupyter-widgets/base",
            "_view_module_version": "1.2.0",
            "_view_name": "StyleView",
            "bar_color": null,
            "description_width": ""
          }
        },
        "0c0b40e25bad46a695c70486aafa64e2": {
          "model_module": "@jupyter-widgets/base",
          "model_name": "LayoutModel",
          "model_module_version": "1.2.0",
          "state": {
            "_model_module": "@jupyter-widgets/base",
            "_model_module_version": "1.2.0",
            "_model_name": "LayoutModel",
            "_view_count": null,
            "_view_module": "@jupyter-widgets/base",
            "_view_module_version": "1.2.0",
            "_view_name": "LayoutView",
            "align_content": null,
            "align_items": null,
            "align_self": null,
            "border": null,
            "bottom": null,
            "display": null,
            "flex": null,
            "flex_flow": null,
            "grid_area": null,
            "grid_auto_columns": null,
            "grid_auto_flow": null,
            "grid_auto_rows": null,
            "grid_column": null,
            "grid_gap": null,
            "grid_row": null,
            "grid_template_areas": null,
            "grid_template_columns": null,
            "grid_template_rows": null,
            "height": null,
            "justify_content": null,
            "justify_items": null,
            "left": null,
            "margin": null,
            "max_height": null,
            "max_width": null,
            "min_height": null,
            "min_width": null,
            "object_fit": null,
            "object_position": null,
            "order": null,
            "overflow": null,
            "overflow_x": null,
            "overflow_y": null,
            "padding": null,
            "right": null,
            "top": null,
            "visibility": null,
            "width": null
          }
        },
        "f09cf7998cc74e29b4cae22d37f9b1bf": {
          "model_module": "@jupyter-widgets/controls",
          "model_name": "DescriptionStyleModel",
          "model_module_version": "1.5.0",
          "state": {
            "_model_module": "@jupyter-widgets/controls",
            "_model_module_version": "1.5.0",
            "_model_name": "DescriptionStyleModel",
            "_view_count": null,
            "_view_module": "@jupyter-widgets/base",
            "_view_module_version": "1.2.0",
            "_view_name": "StyleView",
            "description_width": ""
          }
        },
        "f9efd283ef3d435b86a3b52c8008248e": {
          "model_module": "@jupyter-widgets/controls",
          "model_name": "HBoxModel",
          "model_module_version": "1.5.0",
          "state": {
            "_dom_classes": [],
            "_model_module": "@jupyter-widgets/controls",
            "_model_module_version": "1.5.0",
            "_model_name": "HBoxModel",
            "_view_count": null,
            "_view_module": "@jupyter-widgets/controls",
            "_view_module_version": "1.5.0",
            "_view_name": "HBoxView",
            "box_style": "",
            "children": [
              "IPY_MODEL_21d781a5c29e4dedb1d76973d9d3ff5d",
              "IPY_MODEL_c4a7e7e958ad4f8faa3d6b234b8db1d1",
              "IPY_MODEL_efe87817cf654a9aa08a0c66defde233"
            ],
            "layout": "IPY_MODEL_0abf5abf31114aa497684c19ad1a8c7c"
          }
        },
        "21d781a5c29e4dedb1d76973d9d3ff5d": {
          "model_module": "@jupyter-widgets/controls",
          "model_name": "HTMLModel",
          "model_module_version": "1.5.0",
          "state": {
            "_dom_classes": [],
            "_model_module": "@jupyter-widgets/controls",
            "_model_module_version": "1.5.0",
            "_model_name": "HTMLModel",
            "_view_count": null,
            "_view_module": "@jupyter-widgets/controls",
            "_view_module_version": "1.5.0",
            "_view_name": "HTMLView",
            "description": "",
            "description_tooltip": null,
            "layout": "IPY_MODEL_dfdc5929cc6f46daaaf6d17de5a13ee9",
            "placeholder": "​",
            "style": "IPY_MODEL_cfbd3a1706d74ce4bb75ecd80ba7bb78",
            "value": "config.json: 100%"
          }
        },
        "c4a7e7e958ad4f8faa3d6b234b8db1d1": {
          "model_module": "@jupyter-widgets/controls",
          "model_name": "FloatProgressModel",
          "model_module_version": "1.5.0",
          "state": {
            "_dom_classes": [],
            "_model_module": "@jupyter-widgets/controls",
            "_model_module_version": "1.5.0",
            "_model_name": "FloatProgressModel",
            "_view_count": null,
            "_view_module": "@jupyter-widgets/controls",
            "_view_module_version": "1.5.0",
            "_view_name": "ProgressView",
            "bar_style": "success",
            "description": "",
            "description_tooltip": null,
            "layout": "IPY_MODEL_68e3fcb6f98849b2a79ab77b00952694",
            "max": 625,
            "min": 0,
            "orientation": "horizontal",
            "style": "IPY_MODEL_589abf928fbf408494a7b270860bfe34",
            "value": 625
          }
        },
        "efe87817cf654a9aa08a0c66defde233": {
          "model_module": "@jupyter-widgets/controls",
          "model_name": "HTMLModel",
          "model_module_version": "1.5.0",
          "state": {
            "_dom_classes": [],
            "_model_module": "@jupyter-widgets/controls",
            "_model_module_version": "1.5.0",
            "_model_name": "HTMLModel",
            "_view_count": null,
            "_view_module": "@jupyter-widgets/controls",
            "_view_module_version": "1.5.0",
            "_view_name": "HTMLView",
            "description": "",
            "description_tooltip": null,
            "layout": "IPY_MODEL_19184ae2bd44443fb6de83ee6f2b673e",
            "placeholder": "​",
            "style": "IPY_MODEL_3b42faa0c6484cf8b612e5bc8f0e2ebc",
            "value": " 625/625 [00:00&lt;00:00, 6.63kB/s]"
          }
        },
        "0abf5abf31114aa497684c19ad1a8c7c": {
          "model_module": "@jupyter-widgets/base",
          "model_name": "LayoutModel",
          "model_module_version": "1.2.0",
          "state": {
            "_model_module": "@jupyter-widgets/base",
            "_model_module_version": "1.2.0",
            "_model_name": "LayoutModel",
            "_view_count": null,
            "_view_module": "@jupyter-widgets/base",
            "_view_module_version": "1.2.0",
            "_view_name": "LayoutView",
            "align_content": null,
            "align_items": null,
            "align_self": null,
            "border": null,
            "bottom": null,
            "display": null,
            "flex": null,
            "flex_flow": null,
            "grid_area": null,
            "grid_auto_columns": null,
            "grid_auto_flow": null,
            "grid_auto_rows": null,
            "grid_column": null,
            "grid_gap": null,
            "grid_row": null,
            "grid_template_areas": null,
            "grid_template_columns": null,
            "grid_template_rows": null,
            "height": null,
            "justify_content": null,
            "justify_items": null,
            "left": null,
            "margin": null,
            "max_height": null,
            "max_width": null,
            "min_height": null,
            "min_width": null,
            "object_fit": null,
            "object_position": null,
            "order": null,
            "overflow": null,
            "overflow_x": null,
            "overflow_y": null,
            "padding": null,
            "right": null,
            "top": null,
            "visibility": null,
            "width": null
          }
        },
        "dfdc5929cc6f46daaaf6d17de5a13ee9": {
          "model_module": "@jupyter-widgets/base",
          "model_name": "LayoutModel",
          "model_module_version": "1.2.0",
          "state": {
            "_model_module": "@jupyter-widgets/base",
            "_model_module_version": "1.2.0",
            "_model_name": "LayoutModel",
            "_view_count": null,
            "_view_module": "@jupyter-widgets/base",
            "_view_module_version": "1.2.0",
            "_view_name": "LayoutView",
            "align_content": null,
            "align_items": null,
            "align_self": null,
            "border": null,
            "bottom": null,
            "display": null,
            "flex": null,
            "flex_flow": null,
            "grid_area": null,
            "grid_auto_columns": null,
            "grid_auto_flow": null,
            "grid_auto_rows": null,
            "grid_column": null,
            "grid_gap": null,
            "grid_row": null,
            "grid_template_areas": null,
            "grid_template_columns": null,
            "grid_template_rows": null,
            "height": null,
            "justify_content": null,
            "justify_items": null,
            "left": null,
            "margin": null,
            "max_height": null,
            "max_width": null,
            "min_height": null,
            "min_width": null,
            "object_fit": null,
            "object_position": null,
            "order": null,
            "overflow": null,
            "overflow_x": null,
            "overflow_y": null,
            "padding": null,
            "right": null,
            "top": null,
            "visibility": null,
            "width": null
          }
        },
        "cfbd3a1706d74ce4bb75ecd80ba7bb78": {
          "model_module": "@jupyter-widgets/controls",
          "model_name": "DescriptionStyleModel",
          "model_module_version": "1.5.0",
          "state": {
            "_model_module": "@jupyter-widgets/controls",
            "_model_module_version": "1.5.0",
            "_model_name": "DescriptionStyleModel",
            "_view_count": null,
            "_view_module": "@jupyter-widgets/base",
            "_view_module_version": "1.2.0",
            "_view_name": "StyleView",
            "description_width": ""
          }
        },
        "68e3fcb6f98849b2a79ab77b00952694": {
          "model_module": "@jupyter-widgets/base",
          "model_name": "LayoutModel",
          "model_module_version": "1.2.0",
          "state": {
            "_model_module": "@jupyter-widgets/base",
            "_model_module_version": "1.2.0",
            "_model_name": "LayoutModel",
            "_view_count": null,
            "_view_module": "@jupyter-widgets/base",
            "_view_module_version": "1.2.0",
            "_view_name": "LayoutView",
            "align_content": null,
            "align_items": null,
            "align_self": null,
            "border": null,
            "bottom": null,
            "display": null,
            "flex": null,
            "flex_flow": null,
            "grid_area": null,
            "grid_auto_columns": null,
            "grid_auto_flow": null,
            "grid_auto_rows": null,
            "grid_column": null,
            "grid_gap": null,
            "grid_row": null,
            "grid_template_areas": null,
            "grid_template_columns": null,
            "grid_template_rows": null,
            "height": null,
            "justify_content": null,
            "justify_items": null,
            "left": null,
            "margin": null,
            "max_height": null,
            "max_width": null,
            "min_height": null,
            "min_width": null,
            "object_fit": null,
            "object_position": null,
            "order": null,
            "overflow": null,
            "overflow_x": null,
            "overflow_y": null,
            "padding": null,
            "right": null,
            "top": null,
            "visibility": null,
            "width": null
          }
        },
        "589abf928fbf408494a7b270860bfe34": {
          "model_module": "@jupyter-widgets/controls",
          "model_name": "ProgressStyleModel",
          "model_module_version": "1.5.0",
          "state": {
            "_model_module": "@jupyter-widgets/controls",
            "_model_module_version": "1.5.0",
            "_model_name": "ProgressStyleModel",
            "_view_count": null,
            "_view_module": "@jupyter-widgets/base",
            "_view_module_version": "1.2.0",
            "_view_name": "StyleView",
            "bar_color": null,
            "description_width": ""
          }
        },
        "19184ae2bd44443fb6de83ee6f2b673e": {
          "model_module": "@jupyter-widgets/base",
          "model_name": "LayoutModel",
          "model_module_version": "1.2.0",
          "state": {
            "_model_module": "@jupyter-widgets/base",
            "_model_module_version": "1.2.0",
            "_model_name": "LayoutModel",
            "_view_count": null,
            "_view_module": "@jupyter-widgets/base",
            "_view_module_version": "1.2.0",
            "_view_name": "LayoutView",
            "align_content": null,
            "align_items": null,
            "align_self": null,
            "border": null,
            "bottom": null,
            "display": null,
            "flex": null,
            "flex_flow": null,
            "grid_area": null,
            "grid_auto_columns": null,
            "grid_auto_flow": null,
            "grid_auto_rows": null,
            "grid_column": null,
            "grid_gap": null,
            "grid_row": null,
            "grid_template_areas": null,
            "grid_template_columns": null,
            "grid_template_rows": null,
            "height": null,
            "justify_content": null,
            "justify_items": null,
            "left": null,
            "margin": null,
            "max_height": null,
            "max_width": null,
            "min_height": null,
            "min_width": null,
            "object_fit": null,
            "object_position": null,
            "order": null,
            "overflow": null,
            "overflow_x": null,
            "overflow_y": null,
            "padding": null,
            "right": null,
            "top": null,
            "visibility": null,
            "width": null
          }
        },
        "3b42faa0c6484cf8b612e5bc8f0e2ebc": {
          "model_module": "@jupyter-widgets/controls",
          "model_name": "DescriptionStyleModel",
          "model_module_version": "1.5.0",
          "state": {
            "_model_module": "@jupyter-widgets/controls",
            "_model_module_version": "1.5.0",
            "_model_name": "DescriptionStyleModel",
            "_view_count": null,
            "_view_module": "@jupyter-widgets/base",
            "_view_module_version": "1.2.0",
            "_view_name": "StyleView",
            "description_width": ""
          }
        },
        "e3e5a960f4324db4887fd73e74b8233a": {
          "model_module": "@jupyter-widgets/controls",
          "model_name": "HBoxModel",
          "model_module_version": "1.5.0",
          "state": {
            "_dom_classes": [],
            "_model_module": "@jupyter-widgets/controls",
            "_model_module_version": "1.5.0",
            "_model_name": "HBoxModel",
            "_view_count": null,
            "_view_module": "@jupyter-widgets/controls",
            "_view_module_version": "1.5.0",
            "_view_name": "HBoxView",
            "box_style": "",
            "children": [
              "IPY_MODEL_0f598187e92a43548bfdc003141e2ec7",
              "IPY_MODEL_aeead479c33b402db720fea88e04dcb6",
              "IPY_MODEL_411f2c4956634d4c83ac7f45c0c3a308"
            ],
            "layout": "IPY_MODEL_60a188957fa44804a64c3e83bdce50d3"
          }
        },
        "0f598187e92a43548bfdc003141e2ec7": {
          "model_module": "@jupyter-widgets/controls",
          "model_name": "HTMLModel",
          "model_module_version": "1.5.0",
          "state": {
            "_dom_classes": [],
            "_model_module": "@jupyter-widgets/controls",
            "_model_module_version": "1.5.0",
            "_model_name": "HTMLModel",
            "_view_count": null,
            "_view_module": "@jupyter-widgets/controls",
            "_view_module_version": "1.5.0",
            "_view_name": "HTMLView",
            "description": "",
            "description_tooltip": null,
            "layout": "IPY_MODEL_0b0949b9347d4884a5730796cfd0fcff",
            "placeholder": "​",
            "style": "IPY_MODEL_bb34e6031f8f498baba52053fa8afe23",
            "value": "vocab.txt: 100%"
          }
        },
        "aeead479c33b402db720fea88e04dcb6": {
          "model_module": "@jupyter-widgets/controls",
          "model_name": "FloatProgressModel",
          "model_module_version": "1.5.0",
          "state": {
            "_dom_classes": [],
            "_model_module": "@jupyter-widgets/controls",
            "_model_module_version": "1.5.0",
            "_model_name": "FloatProgressModel",
            "_view_count": null,
            "_view_module": "@jupyter-widgets/controls",
            "_view_module_version": "1.5.0",
            "_view_name": "ProgressView",
            "bar_style": "success",
            "description": "",
            "description_tooltip": null,
            "layout": "IPY_MODEL_bcfe2dcf94b448b2ba7b584343b02f92",
            "max": 995526,
            "min": 0,
            "orientation": "horizontal",
            "style": "IPY_MODEL_2958101563cf4f3a91dab1ed76cec72b",
            "value": 995526
          }
        },
        "411f2c4956634d4c83ac7f45c0c3a308": {
          "model_module": "@jupyter-widgets/controls",
          "model_name": "HTMLModel",
          "model_module_version": "1.5.0",
          "state": {
            "_dom_classes": [],
            "_model_module": "@jupyter-widgets/controls",
            "_model_module_version": "1.5.0",
            "_model_name": "HTMLModel",
            "_view_count": null,
            "_view_module": "@jupyter-widgets/controls",
            "_view_module_version": "1.5.0",
            "_view_name": "HTMLView",
            "description": "",
            "description_tooltip": null,
            "layout": "IPY_MODEL_d28cae91435445ada8a5a0214fdec356",
            "placeholder": "​",
            "style": "IPY_MODEL_3733e9bf45fe411e87d76230590755ef",
            "value": " 996k/996k [00:00&lt;00:00, 3.76MB/s]"
          }
        },
        "60a188957fa44804a64c3e83bdce50d3": {
          "model_module": "@jupyter-widgets/base",
          "model_name": "LayoutModel",
          "model_module_version": "1.2.0",
          "state": {
            "_model_module": "@jupyter-widgets/base",
            "_model_module_version": "1.2.0",
            "_model_name": "LayoutModel",
            "_view_count": null,
            "_view_module": "@jupyter-widgets/base",
            "_view_module_version": "1.2.0",
            "_view_name": "LayoutView",
            "align_content": null,
            "align_items": null,
            "align_self": null,
            "border": null,
            "bottom": null,
            "display": null,
            "flex": null,
            "flex_flow": null,
            "grid_area": null,
            "grid_auto_columns": null,
            "grid_auto_flow": null,
            "grid_auto_rows": null,
            "grid_column": null,
            "grid_gap": null,
            "grid_row": null,
            "grid_template_areas": null,
            "grid_template_columns": null,
            "grid_template_rows": null,
            "height": null,
            "justify_content": null,
            "justify_items": null,
            "left": null,
            "margin": null,
            "max_height": null,
            "max_width": null,
            "min_height": null,
            "min_width": null,
            "object_fit": null,
            "object_position": null,
            "order": null,
            "overflow": null,
            "overflow_x": null,
            "overflow_y": null,
            "padding": null,
            "right": null,
            "top": null,
            "visibility": null,
            "width": null
          }
        },
        "0b0949b9347d4884a5730796cfd0fcff": {
          "model_module": "@jupyter-widgets/base",
          "model_name": "LayoutModel",
          "model_module_version": "1.2.0",
          "state": {
            "_model_module": "@jupyter-widgets/base",
            "_model_module_version": "1.2.0",
            "_model_name": "LayoutModel",
            "_view_count": null,
            "_view_module": "@jupyter-widgets/base",
            "_view_module_version": "1.2.0",
            "_view_name": "LayoutView",
            "align_content": null,
            "align_items": null,
            "align_self": null,
            "border": null,
            "bottom": null,
            "display": null,
            "flex": null,
            "flex_flow": null,
            "grid_area": null,
            "grid_auto_columns": null,
            "grid_auto_flow": null,
            "grid_auto_rows": null,
            "grid_column": null,
            "grid_gap": null,
            "grid_row": null,
            "grid_template_areas": null,
            "grid_template_columns": null,
            "grid_template_rows": null,
            "height": null,
            "justify_content": null,
            "justify_items": null,
            "left": null,
            "margin": null,
            "max_height": null,
            "max_width": null,
            "min_height": null,
            "min_width": null,
            "object_fit": null,
            "object_position": null,
            "order": null,
            "overflow": null,
            "overflow_x": null,
            "overflow_y": null,
            "padding": null,
            "right": null,
            "top": null,
            "visibility": null,
            "width": null
          }
        },
        "bb34e6031f8f498baba52053fa8afe23": {
          "model_module": "@jupyter-widgets/controls",
          "model_name": "DescriptionStyleModel",
          "model_module_version": "1.5.0",
          "state": {
            "_model_module": "@jupyter-widgets/controls",
            "_model_module_version": "1.5.0",
            "_model_name": "DescriptionStyleModel",
            "_view_count": null,
            "_view_module": "@jupyter-widgets/base",
            "_view_module_version": "1.2.0",
            "_view_name": "StyleView",
            "description_width": ""
          }
        },
        "bcfe2dcf94b448b2ba7b584343b02f92": {
          "model_module": "@jupyter-widgets/base",
          "model_name": "LayoutModel",
          "model_module_version": "1.2.0",
          "state": {
            "_model_module": "@jupyter-widgets/base",
            "_model_module_version": "1.2.0",
            "_model_name": "LayoutModel",
            "_view_count": null,
            "_view_module": "@jupyter-widgets/base",
            "_view_module_version": "1.2.0",
            "_view_name": "LayoutView",
            "align_content": null,
            "align_items": null,
            "align_self": null,
            "border": null,
            "bottom": null,
            "display": null,
            "flex": null,
            "flex_flow": null,
            "grid_area": null,
            "grid_auto_columns": null,
            "grid_auto_flow": null,
            "grid_auto_rows": null,
            "grid_column": null,
            "grid_gap": null,
            "grid_row": null,
            "grid_template_areas": null,
            "grid_template_columns": null,
            "grid_template_rows": null,
            "height": null,
            "justify_content": null,
            "justify_items": null,
            "left": null,
            "margin": null,
            "max_height": null,
            "max_width": null,
            "min_height": null,
            "min_width": null,
            "object_fit": null,
            "object_position": null,
            "order": null,
            "overflow": null,
            "overflow_x": null,
            "overflow_y": null,
            "padding": null,
            "right": null,
            "top": null,
            "visibility": null,
            "width": null
          }
        },
        "2958101563cf4f3a91dab1ed76cec72b": {
          "model_module": "@jupyter-widgets/controls",
          "model_name": "ProgressStyleModel",
          "model_module_version": "1.5.0",
          "state": {
            "_model_module": "@jupyter-widgets/controls",
            "_model_module_version": "1.5.0",
            "_model_name": "ProgressStyleModel",
            "_view_count": null,
            "_view_module": "@jupyter-widgets/base",
            "_view_module_version": "1.2.0",
            "_view_name": "StyleView",
            "bar_color": null,
            "description_width": ""
          }
        },
        "d28cae91435445ada8a5a0214fdec356": {
          "model_module": "@jupyter-widgets/base",
          "model_name": "LayoutModel",
          "model_module_version": "1.2.0",
          "state": {
            "_model_module": "@jupyter-widgets/base",
            "_model_module_version": "1.2.0",
            "_model_name": "LayoutModel",
            "_view_count": null,
            "_view_module": "@jupyter-widgets/base",
            "_view_module_version": "1.2.0",
            "_view_name": "LayoutView",
            "align_content": null,
            "align_items": null,
            "align_self": null,
            "border": null,
            "bottom": null,
            "display": null,
            "flex": null,
            "flex_flow": null,
            "grid_area": null,
            "grid_auto_columns": null,
            "grid_auto_flow": null,
            "grid_auto_rows": null,
            "grid_column": null,
            "grid_gap": null,
            "grid_row": null,
            "grid_template_areas": null,
            "grid_template_columns": null,
            "grid_template_rows": null,
            "height": null,
            "justify_content": null,
            "justify_items": null,
            "left": null,
            "margin": null,
            "max_height": null,
            "max_width": null,
            "min_height": null,
            "min_width": null,
            "object_fit": null,
            "object_position": null,
            "order": null,
            "overflow": null,
            "overflow_x": null,
            "overflow_y": null,
            "padding": null,
            "right": null,
            "top": null,
            "visibility": null,
            "width": null
          }
        },
        "3733e9bf45fe411e87d76230590755ef": {
          "model_module": "@jupyter-widgets/controls",
          "model_name": "DescriptionStyleModel",
          "model_module_version": "1.5.0",
          "state": {
            "_model_module": "@jupyter-widgets/controls",
            "_model_module_version": "1.5.0",
            "_model_name": "DescriptionStyleModel",
            "_view_count": null,
            "_view_module": "@jupyter-widgets/base",
            "_view_module_version": "1.2.0",
            "_view_name": "StyleView",
            "description_width": ""
          }
        },
        "f63ce348a27843e1b4e9d92965cfb12f": {
          "model_module": "@jupyter-widgets/controls",
          "model_name": "HBoxModel",
          "model_module_version": "1.5.0",
          "state": {
            "_dom_classes": [],
            "_model_module": "@jupyter-widgets/controls",
            "_model_module_version": "1.5.0",
            "_model_name": "HBoxModel",
            "_view_count": null,
            "_view_module": "@jupyter-widgets/controls",
            "_view_module_version": "1.5.0",
            "_view_name": "HBoxView",
            "box_style": "",
            "children": [
              "IPY_MODEL_10f94c6d12334f8fa02747375cdfc4a2",
              "IPY_MODEL_bccb6e3113464b15bede1a467405cb9b",
              "IPY_MODEL_152564a1db6941e982c893804136d5ec"
            ],
            "layout": "IPY_MODEL_5662f7bc5364474c8fdbce4fe1269fc0"
          }
        },
        "10f94c6d12334f8fa02747375cdfc4a2": {
          "model_module": "@jupyter-widgets/controls",
          "model_name": "HTMLModel",
          "model_module_version": "1.5.0",
          "state": {
            "_dom_classes": [],
            "_model_module": "@jupyter-widgets/controls",
            "_model_module_version": "1.5.0",
            "_model_name": "HTMLModel",
            "_view_count": null,
            "_view_module": "@jupyter-widgets/controls",
            "_view_module_version": "1.5.0",
            "_view_name": "HTMLView",
            "description": "",
            "description_tooltip": null,
            "layout": "IPY_MODEL_abdd9c84d6304a199021264cacb46d34",
            "placeholder": "​",
            "style": "IPY_MODEL_5e4ff99a0dc04ba491ab8abb17949ce1",
            "value": "tokenizer.json: 100%"
          }
        },
        "bccb6e3113464b15bede1a467405cb9b": {
          "model_module": "@jupyter-widgets/controls",
          "model_name": "FloatProgressModel",
          "model_module_version": "1.5.0",
          "state": {
            "_dom_classes": [],
            "_model_module": "@jupyter-widgets/controls",
            "_model_module_version": "1.5.0",
            "_model_name": "FloatProgressModel",
            "_view_count": null,
            "_view_module": "@jupyter-widgets/controls",
            "_view_module_version": "1.5.0",
            "_view_name": "ProgressView",
            "bar_style": "success",
            "description": "",
            "description_tooltip": null,
            "layout": "IPY_MODEL_111d4f9241b042c7948f221299164809",
            "max": 1961828,
            "min": 0,
            "orientation": "horizontal",
            "style": "IPY_MODEL_156ea90cf1ee4dd28cbf5406f976cea3",
            "value": 1961828
          }
        },
        "152564a1db6941e982c893804136d5ec": {
          "model_module": "@jupyter-widgets/controls",
          "model_name": "HTMLModel",
          "model_module_version": "1.5.0",
          "state": {
            "_dom_classes": [],
            "_model_module": "@jupyter-widgets/controls",
            "_model_module_version": "1.5.0",
            "_model_name": "HTMLModel",
            "_view_count": null,
            "_view_module": "@jupyter-widgets/controls",
            "_view_module_version": "1.5.0",
            "_view_name": "HTMLView",
            "description": "",
            "description_tooltip": null,
            "layout": "IPY_MODEL_b2c4a2d670384b1292e8e481010f37bf",
            "placeholder": "​",
            "style": "IPY_MODEL_bf107a9eac894c7990b0e3c09a742a3c",
            "value": " 1.96M/1.96M [00:00&lt;00:00, 10.9MB/s]"
          }
        },
        "5662f7bc5364474c8fdbce4fe1269fc0": {
          "model_module": "@jupyter-widgets/base",
          "model_name": "LayoutModel",
          "model_module_version": "1.2.0",
          "state": {
            "_model_module": "@jupyter-widgets/base",
            "_model_module_version": "1.2.0",
            "_model_name": "LayoutModel",
            "_view_count": null,
            "_view_module": "@jupyter-widgets/base",
            "_view_module_version": "1.2.0",
            "_view_name": "LayoutView",
            "align_content": null,
            "align_items": null,
            "align_self": null,
            "border": null,
            "bottom": null,
            "display": null,
            "flex": null,
            "flex_flow": null,
            "grid_area": null,
            "grid_auto_columns": null,
            "grid_auto_flow": null,
            "grid_auto_rows": null,
            "grid_column": null,
            "grid_gap": null,
            "grid_row": null,
            "grid_template_areas": null,
            "grid_template_columns": null,
            "grid_template_rows": null,
            "height": null,
            "justify_content": null,
            "justify_items": null,
            "left": null,
            "margin": null,
            "max_height": null,
            "max_width": null,
            "min_height": null,
            "min_width": null,
            "object_fit": null,
            "object_position": null,
            "order": null,
            "overflow": null,
            "overflow_x": null,
            "overflow_y": null,
            "padding": null,
            "right": null,
            "top": null,
            "visibility": null,
            "width": null
          }
        },
        "abdd9c84d6304a199021264cacb46d34": {
          "model_module": "@jupyter-widgets/base",
          "model_name": "LayoutModel",
          "model_module_version": "1.2.0",
          "state": {
            "_model_module": "@jupyter-widgets/base",
            "_model_module_version": "1.2.0",
            "_model_name": "LayoutModel",
            "_view_count": null,
            "_view_module": "@jupyter-widgets/base",
            "_view_module_version": "1.2.0",
            "_view_name": "LayoutView",
            "align_content": null,
            "align_items": null,
            "align_self": null,
            "border": null,
            "bottom": null,
            "display": null,
            "flex": null,
            "flex_flow": null,
            "grid_area": null,
            "grid_auto_columns": null,
            "grid_auto_flow": null,
            "grid_auto_rows": null,
            "grid_column": null,
            "grid_gap": null,
            "grid_row": null,
            "grid_template_areas": null,
            "grid_template_columns": null,
            "grid_template_rows": null,
            "height": null,
            "justify_content": null,
            "justify_items": null,
            "left": null,
            "margin": null,
            "max_height": null,
            "max_width": null,
            "min_height": null,
            "min_width": null,
            "object_fit": null,
            "object_position": null,
            "order": null,
            "overflow": null,
            "overflow_x": null,
            "overflow_y": null,
            "padding": null,
            "right": null,
            "top": null,
            "visibility": null,
            "width": null
          }
        },
        "5e4ff99a0dc04ba491ab8abb17949ce1": {
          "model_module": "@jupyter-widgets/controls",
          "model_name": "DescriptionStyleModel",
          "model_module_version": "1.5.0",
          "state": {
            "_model_module": "@jupyter-widgets/controls",
            "_model_module_version": "1.5.0",
            "_model_name": "DescriptionStyleModel",
            "_view_count": null,
            "_view_module": "@jupyter-widgets/base",
            "_view_module_version": "1.2.0",
            "_view_name": "StyleView",
            "description_width": ""
          }
        },
        "111d4f9241b042c7948f221299164809": {
          "model_module": "@jupyter-widgets/base",
          "model_name": "LayoutModel",
          "model_module_version": "1.2.0",
          "state": {
            "_model_module": "@jupyter-widgets/base",
            "_model_module_version": "1.2.0",
            "_model_name": "LayoutModel",
            "_view_count": null,
            "_view_module": "@jupyter-widgets/base",
            "_view_module_version": "1.2.0",
            "_view_name": "LayoutView",
            "align_content": null,
            "align_items": null,
            "align_self": null,
            "border": null,
            "bottom": null,
            "display": null,
            "flex": null,
            "flex_flow": null,
            "grid_area": null,
            "grid_auto_columns": null,
            "grid_auto_flow": null,
            "grid_auto_rows": null,
            "grid_column": null,
            "grid_gap": null,
            "grid_row": null,
            "grid_template_areas": null,
            "grid_template_columns": null,
            "grid_template_rows": null,
            "height": null,
            "justify_content": null,
            "justify_items": null,
            "left": null,
            "margin": null,
            "max_height": null,
            "max_width": null,
            "min_height": null,
            "min_width": null,
            "object_fit": null,
            "object_position": null,
            "order": null,
            "overflow": null,
            "overflow_x": null,
            "overflow_y": null,
            "padding": null,
            "right": null,
            "top": null,
            "visibility": null,
            "width": null
          }
        },
        "156ea90cf1ee4dd28cbf5406f976cea3": {
          "model_module": "@jupyter-widgets/controls",
          "model_name": "ProgressStyleModel",
          "model_module_version": "1.5.0",
          "state": {
            "_model_module": "@jupyter-widgets/controls",
            "_model_module_version": "1.5.0",
            "_model_name": "ProgressStyleModel",
            "_view_count": null,
            "_view_module": "@jupyter-widgets/base",
            "_view_module_version": "1.2.0",
            "_view_name": "StyleView",
            "bar_color": null,
            "description_width": ""
          }
        },
        "b2c4a2d670384b1292e8e481010f37bf": {
          "model_module": "@jupyter-widgets/base",
          "model_name": "LayoutModel",
          "model_module_version": "1.2.0",
          "state": {
            "_model_module": "@jupyter-widgets/base",
            "_model_module_version": "1.2.0",
            "_model_name": "LayoutModel",
            "_view_count": null,
            "_view_module": "@jupyter-widgets/base",
            "_view_module_version": "1.2.0",
            "_view_name": "LayoutView",
            "align_content": null,
            "align_items": null,
            "align_self": null,
            "border": null,
            "bottom": null,
            "display": null,
            "flex": null,
            "flex_flow": null,
            "grid_area": null,
            "grid_auto_columns": null,
            "grid_auto_flow": null,
            "grid_auto_rows": null,
            "grid_column": null,
            "grid_gap": null,
            "grid_row": null,
            "grid_template_areas": null,
            "grid_template_columns": null,
            "grid_template_rows": null,
            "height": null,
            "justify_content": null,
            "justify_items": null,
            "left": null,
            "margin": null,
            "max_height": null,
            "max_width": null,
            "min_height": null,
            "min_width": null,
            "object_fit": null,
            "object_position": null,
            "order": null,
            "overflow": null,
            "overflow_x": null,
            "overflow_y": null,
            "padding": null,
            "right": null,
            "top": null,
            "visibility": null,
            "width": null
          }
        },
        "bf107a9eac894c7990b0e3c09a742a3c": {
          "model_module": "@jupyter-widgets/controls",
          "model_name": "DescriptionStyleModel",
          "model_module_version": "1.5.0",
          "state": {
            "_model_module": "@jupyter-widgets/controls",
            "_model_module_version": "1.5.0",
            "_model_name": "DescriptionStyleModel",
            "_view_count": null,
            "_view_module": "@jupyter-widgets/base",
            "_view_module_version": "1.2.0",
            "_view_name": "StyleView",
            "description_width": ""
          }
        },
        "57fec984d54b42aa8d3259a3bc2e7abc": {
          "model_module": "@jupyter-widgets/controls",
          "model_name": "HBoxModel",
          "model_module_version": "1.5.0",
          "state": {
            "_dom_classes": [],
            "_model_module": "@jupyter-widgets/controls",
            "_model_module_version": "1.5.0",
            "_model_name": "HBoxModel",
            "_view_count": null,
            "_view_module": "@jupyter-widgets/controls",
            "_view_module_version": "1.5.0",
            "_view_name": "HBoxView",
            "box_style": "",
            "children": [
              "IPY_MODEL_762cea8e843f41039efd4f5c32db4f91",
              "IPY_MODEL_d236f697c7db42e388fbeab5ad470243",
              "IPY_MODEL_8aa238ccde03467aa99d47001303838c"
            ],
            "layout": "IPY_MODEL_f1dd332ffa714b6d81d5dba88c18298a"
          }
        },
        "762cea8e843f41039efd4f5c32db4f91": {
          "model_module": "@jupyter-widgets/controls",
          "model_name": "HTMLModel",
          "model_module_version": "1.5.0",
          "state": {
            "_dom_classes": [],
            "_model_module": "@jupyter-widgets/controls",
            "_model_module_version": "1.5.0",
            "_model_name": "HTMLModel",
            "_view_count": null,
            "_view_module": "@jupyter-widgets/controls",
            "_view_module_version": "1.5.0",
            "_view_name": "HTMLView",
            "description": "",
            "description_tooltip": null,
            "layout": "IPY_MODEL_59e20daf391745ec86c8567b5966b4d4",
            "placeholder": "​",
            "style": "IPY_MODEL_7e4481f046c74eca83d8d1eee0e2cd7f",
            "value": "model.safetensors: 100%"
          }
        },
        "d236f697c7db42e388fbeab5ad470243": {
          "model_module": "@jupyter-widgets/controls",
          "model_name": "FloatProgressModel",
          "model_module_version": "1.5.0",
          "state": {
            "_dom_classes": [],
            "_model_module": "@jupyter-widgets/controls",
            "_model_module_version": "1.5.0",
            "_model_name": "FloatProgressModel",
            "_view_count": null,
            "_view_module": "@jupyter-widgets/controls",
            "_view_module_version": "1.5.0",
            "_view_name": "ProgressView",
            "bar_style": "success",
            "description": "",
            "description_tooltip": null,
            "layout": "IPY_MODEL_ce9225b423d44e23ba5c86100e06ef31",
            "max": 714290682,
            "min": 0,
            "orientation": "horizontal",
            "style": "IPY_MODEL_6455f4bde2b9461c96fe65a573e809a6",
            "value": 714290682
          }
        },
        "8aa238ccde03467aa99d47001303838c": {
          "model_module": "@jupyter-widgets/controls",
          "model_name": "HTMLModel",
          "model_module_version": "1.5.0",
          "state": {
            "_dom_classes": [],
            "_model_module": "@jupyter-widgets/controls",
            "_model_module_version": "1.5.0",
            "_model_name": "HTMLModel",
            "_view_count": null,
            "_view_module": "@jupyter-widgets/controls",
            "_view_module_version": "1.5.0",
            "_view_name": "HTMLView",
            "description": "",
            "description_tooltip": null,
            "layout": "IPY_MODEL_2ca722d425524cd29d7cd01b2e70cb37",
            "placeholder": "​",
            "style": "IPY_MODEL_e80558bafa7843c38b9e504f48dd82f8",
            "value": " 714M/714M [00:10&lt;00:00, 76.9MB/s]"
          }
        },
        "f1dd332ffa714b6d81d5dba88c18298a": {
          "model_module": "@jupyter-widgets/base",
          "model_name": "LayoutModel",
          "model_module_version": "1.2.0",
          "state": {
            "_model_module": "@jupyter-widgets/base",
            "_model_module_version": "1.2.0",
            "_model_name": "LayoutModel",
            "_view_count": null,
            "_view_module": "@jupyter-widgets/base",
            "_view_module_version": "1.2.0",
            "_view_name": "LayoutView",
            "align_content": null,
            "align_items": null,
            "align_self": null,
            "border": null,
            "bottom": null,
            "display": null,
            "flex": null,
            "flex_flow": null,
            "grid_area": null,
            "grid_auto_columns": null,
            "grid_auto_flow": null,
            "grid_auto_rows": null,
            "grid_column": null,
            "grid_gap": null,
            "grid_row": null,
            "grid_template_areas": null,
            "grid_template_columns": null,
            "grid_template_rows": null,
            "height": null,
            "justify_content": null,
            "justify_items": null,
            "left": null,
            "margin": null,
            "max_height": null,
            "max_width": null,
            "min_height": null,
            "min_width": null,
            "object_fit": null,
            "object_position": null,
            "order": null,
            "overflow": null,
            "overflow_x": null,
            "overflow_y": null,
            "padding": null,
            "right": null,
            "top": null,
            "visibility": null,
            "width": null
          }
        },
        "59e20daf391745ec86c8567b5966b4d4": {
          "model_module": "@jupyter-widgets/base",
          "model_name": "LayoutModel",
          "model_module_version": "1.2.0",
          "state": {
            "_model_module": "@jupyter-widgets/base",
            "_model_module_version": "1.2.0",
            "_model_name": "LayoutModel",
            "_view_count": null,
            "_view_module": "@jupyter-widgets/base",
            "_view_module_version": "1.2.0",
            "_view_name": "LayoutView",
            "align_content": null,
            "align_items": null,
            "align_self": null,
            "border": null,
            "bottom": null,
            "display": null,
            "flex": null,
            "flex_flow": null,
            "grid_area": null,
            "grid_auto_columns": null,
            "grid_auto_flow": null,
            "grid_auto_rows": null,
            "grid_column": null,
            "grid_gap": null,
            "grid_row": null,
            "grid_template_areas": null,
            "grid_template_columns": null,
            "grid_template_rows": null,
            "height": null,
            "justify_content": null,
            "justify_items": null,
            "left": null,
            "margin": null,
            "max_height": null,
            "max_width": null,
            "min_height": null,
            "min_width": null,
            "object_fit": null,
            "object_position": null,
            "order": null,
            "overflow": null,
            "overflow_x": null,
            "overflow_y": null,
            "padding": null,
            "right": null,
            "top": null,
            "visibility": null,
            "width": null
          }
        },
        "7e4481f046c74eca83d8d1eee0e2cd7f": {
          "model_module": "@jupyter-widgets/controls",
          "model_name": "DescriptionStyleModel",
          "model_module_version": "1.5.0",
          "state": {
            "_model_module": "@jupyter-widgets/controls",
            "_model_module_version": "1.5.0",
            "_model_name": "DescriptionStyleModel",
            "_view_count": null,
            "_view_module": "@jupyter-widgets/base",
            "_view_module_version": "1.2.0",
            "_view_name": "StyleView",
            "description_width": ""
          }
        },
        "ce9225b423d44e23ba5c86100e06ef31": {
          "model_module": "@jupyter-widgets/base",
          "model_name": "LayoutModel",
          "model_module_version": "1.2.0",
          "state": {
            "_model_module": "@jupyter-widgets/base",
            "_model_module_version": "1.2.0",
            "_model_name": "LayoutModel",
            "_view_count": null,
            "_view_module": "@jupyter-widgets/base",
            "_view_module_version": "1.2.0",
            "_view_name": "LayoutView",
            "align_content": null,
            "align_items": null,
            "align_self": null,
            "border": null,
            "bottom": null,
            "display": null,
            "flex": null,
            "flex_flow": null,
            "grid_area": null,
            "grid_auto_columns": null,
            "grid_auto_flow": null,
            "grid_auto_rows": null,
            "grid_column": null,
            "grid_gap": null,
            "grid_row": null,
            "grid_template_areas": null,
            "grid_template_columns": null,
            "grid_template_rows": null,
            "height": null,
            "justify_content": null,
            "justify_items": null,
            "left": null,
            "margin": null,
            "max_height": null,
            "max_width": null,
            "min_height": null,
            "min_width": null,
            "object_fit": null,
            "object_position": null,
            "order": null,
            "overflow": null,
            "overflow_x": null,
            "overflow_y": null,
            "padding": null,
            "right": null,
            "top": null,
            "visibility": null,
            "width": null
          }
        },
        "6455f4bde2b9461c96fe65a573e809a6": {
          "model_module": "@jupyter-widgets/controls",
          "model_name": "ProgressStyleModel",
          "model_module_version": "1.5.0",
          "state": {
            "_model_module": "@jupyter-widgets/controls",
            "_model_module_version": "1.5.0",
            "_model_name": "ProgressStyleModel",
            "_view_count": null,
            "_view_module": "@jupyter-widgets/base",
            "_view_module_version": "1.2.0",
            "_view_name": "StyleView",
            "bar_color": null,
            "description_width": ""
          }
        },
        "2ca722d425524cd29d7cd01b2e70cb37": {
          "model_module": "@jupyter-widgets/base",
          "model_name": "LayoutModel",
          "model_module_version": "1.2.0",
          "state": {
            "_model_module": "@jupyter-widgets/base",
            "_model_module_version": "1.2.0",
            "_model_name": "LayoutModel",
            "_view_count": null,
            "_view_module": "@jupyter-widgets/base",
            "_view_module_version": "1.2.0",
            "_view_name": "LayoutView",
            "align_content": null,
            "align_items": null,
            "align_self": null,
            "border": null,
            "bottom": null,
            "display": null,
            "flex": null,
            "flex_flow": null,
            "grid_area": null,
            "grid_auto_columns": null,
            "grid_auto_flow": null,
            "grid_auto_rows": null,
            "grid_column": null,
            "grid_gap": null,
            "grid_row": null,
            "grid_template_areas": null,
            "grid_template_columns": null,
            "grid_template_rows": null,
            "height": null,
            "justify_content": null,
            "justify_items": null,
            "left": null,
            "margin": null,
            "max_height": null,
            "max_width": null,
            "min_height": null,
            "min_width": null,
            "object_fit": null,
            "object_position": null,
            "order": null,
            "overflow": null,
            "overflow_x": null,
            "overflow_y": null,
            "padding": null,
            "right": null,
            "top": null,
            "visibility": null,
            "width": null
          }
        },
        "e80558bafa7843c38b9e504f48dd82f8": {
          "model_module": "@jupyter-widgets/controls",
          "model_name": "DescriptionStyleModel",
          "model_module_version": "1.5.0",
          "state": {
            "_model_module": "@jupyter-widgets/controls",
            "_model_module_version": "1.5.0",
            "_model_name": "DescriptionStyleModel",
            "_view_count": null,
            "_view_module": "@jupyter-widgets/base",
            "_view_module_version": "1.2.0",
            "_view_name": "StyleView",
            "description_width": ""
          }
        }
      }
    }
  },
  "cells": [
    {
      "cell_type": "markdown",
      "metadata": {
        "id": "view-in-github",
        "colab_type": "text"
      },
      "source": [
        "<a href=\"https://colab.research.google.com/github/rishurnjan/multilingual-RAG/blob/main/multilingual_RAG.ipynb\" target=\"_parent\"><img src=\"https://colab.research.google.com/assets/colab-badge.svg\" alt=\"Open In Colab\"/></a>"
      ]
    },
    {
      "cell_type": "code",
      "source": [
        "!pip install transformers sentencepiece langchain torch\n",
        "!pip install faiss-cpu rank_bm25\n"
      ],
      "metadata": {
        "colab": {
          "base_uri": "https://localhost:8080/"
        },
        "id": "HOoVChQOTeSc",
        "outputId": "b25fa85a-435e-4999-a4b5-25af00219706"
      },
      "execution_count": 1,
      "outputs": [
        {
          "output_type": "stream",
          "name": "stdout",
          "text": [
            "Requirement already satisfied: transformers in /usr/local/lib/python3.10/dist-packages (4.44.2)\n",
            "Requirement already satisfied: sentencepiece in /usr/local/lib/python3.10/dist-packages (0.2.0)\n",
            "Collecting langchain\n",
            "  Downloading langchain-0.3.3-py3-none-any.whl.metadata (7.1 kB)\n",
            "Requirement already satisfied: torch in /usr/local/lib/python3.10/dist-packages (2.4.1+cu121)\n",
            "Requirement already satisfied: filelock in /usr/local/lib/python3.10/dist-packages (from transformers) (3.16.1)\n",
            "Requirement already satisfied: huggingface-hub<1.0,>=0.23.2 in /usr/local/lib/python3.10/dist-packages (from transformers) (0.24.7)\n",
            "Requirement already satisfied: numpy>=1.17 in /usr/local/lib/python3.10/dist-packages (from transformers) (1.26.4)\n",
            "Requirement already satisfied: packaging>=20.0 in /usr/local/lib/python3.10/dist-packages (from transformers) (24.1)\n",
            "Requirement already satisfied: pyyaml>=5.1 in /usr/local/lib/python3.10/dist-packages (from transformers) (6.0.2)\n",
            "Requirement already satisfied: regex!=2019.12.17 in /usr/local/lib/python3.10/dist-packages (from transformers) (2024.9.11)\n",
            "Requirement already satisfied: requests in /usr/local/lib/python3.10/dist-packages (from transformers) (2.32.3)\n",
            "Requirement already satisfied: safetensors>=0.4.1 in /usr/local/lib/python3.10/dist-packages (from transformers) (0.4.5)\n",
            "Requirement already satisfied: tokenizers<0.20,>=0.19 in /usr/local/lib/python3.10/dist-packages (from transformers) (0.19.1)\n",
            "Requirement already satisfied: tqdm>=4.27 in /usr/local/lib/python3.10/dist-packages (from transformers) (4.66.5)\n",
            "Requirement already satisfied: SQLAlchemy<3,>=1.4 in /usr/local/lib/python3.10/dist-packages (from langchain) (2.0.35)\n",
            "Requirement already satisfied: aiohttp<4.0.0,>=3.8.3 in /usr/local/lib/python3.10/dist-packages (from langchain) (3.10.8)\n",
            "Requirement already satisfied: async-timeout<5.0.0,>=4.0.0 in /usr/local/lib/python3.10/dist-packages (from langchain) (4.0.3)\n",
            "Collecting langchain-core<0.4.0,>=0.3.10 (from langchain)\n",
            "  Downloading langchain_core-0.3.10-py3-none-any.whl.metadata (6.3 kB)\n",
            "Collecting langchain-text-splitters<0.4.0,>=0.3.0 (from langchain)\n",
            "  Downloading langchain_text_splitters-0.3.0-py3-none-any.whl.metadata (2.3 kB)\n",
            "Collecting langsmith<0.2.0,>=0.1.17 (from langchain)\n",
            "  Downloading langsmith-0.1.132-py3-none-any.whl.metadata (13 kB)\n",
            "Requirement already satisfied: pydantic<3.0.0,>=2.7.4 in /usr/local/lib/python3.10/dist-packages (from langchain) (2.9.2)\n",
            "Collecting tenacity!=8.4.0,<9.0.0,>=8.1.0 (from langchain)\n",
            "  Downloading tenacity-8.5.0-py3-none-any.whl.metadata (1.2 kB)\n",
            "Requirement already satisfied: typing-extensions>=4.8.0 in /usr/local/lib/python3.10/dist-packages (from torch) (4.12.2)\n",
            "Requirement already satisfied: sympy in /usr/local/lib/python3.10/dist-packages (from torch) (1.13.3)\n",
            "Requirement already satisfied: networkx in /usr/local/lib/python3.10/dist-packages (from torch) (3.3)\n",
            "Requirement already satisfied: jinja2 in /usr/local/lib/python3.10/dist-packages (from torch) (3.1.4)\n",
            "Requirement already satisfied: fsspec in /usr/local/lib/python3.10/dist-packages (from torch) (2024.6.1)\n",
            "Requirement already satisfied: aiohappyeyeballs>=2.3.0 in /usr/local/lib/python3.10/dist-packages (from aiohttp<4.0.0,>=3.8.3->langchain) (2.4.3)\n",
            "Requirement already satisfied: aiosignal>=1.1.2 in /usr/local/lib/python3.10/dist-packages (from aiohttp<4.0.0,>=3.8.3->langchain) (1.3.1)\n",
            "Requirement already satisfied: attrs>=17.3.0 in /usr/local/lib/python3.10/dist-packages (from aiohttp<4.0.0,>=3.8.3->langchain) (24.2.0)\n",
            "Requirement already satisfied: frozenlist>=1.1.1 in /usr/local/lib/python3.10/dist-packages (from aiohttp<4.0.0,>=3.8.3->langchain) (1.4.1)\n",
            "Requirement already satisfied: multidict<7.0,>=4.5 in /usr/local/lib/python3.10/dist-packages (from aiohttp<4.0.0,>=3.8.3->langchain) (6.1.0)\n",
            "Requirement already satisfied: yarl<2.0,>=1.12.0 in /usr/local/lib/python3.10/dist-packages (from aiohttp<4.0.0,>=3.8.3->langchain) (1.13.1)\n",
            "Collecting jsonpatch<2.0,>=1.33 (from langchain-core<0.4.0,>=0.3.10->langchain)\n",
            "  Downloading jsonpatch-1.33-py2.py3-none-any.whl.metadata (3.0 kB)\n",
            "Collecting httpx<1,>=0.23.0 (from langsmith<0.2.0,>=0.1.17->langchain)\n",
            "  Downloading httpx-0.27.2-py3-none-any.whl.metadata (7.1 kB)\n",
            "Collecting orjson<4.0.0,>=3.9.14 (from langsmith<0.2.0,>=0.1.17->langchain)\n",
            "  Downloading orjson-3.10.7-cp310-cp310-manylinux_2_17_x86_64.manylinux2014_x86_64.whl.metadata (50 kB)\n",
            "\u001b[2K     \u001b[90m━━━━━━━━━━━━━━━━━━━━━━━━━━━━━━━━━━━━━━━━\u001b[0m \u001b[32m50.4/50.4 kB\u001b[0m \u001b[31m113.0 kB/s\u001b[0m eta \u001b[36m0:00:00\u001b[0m\n",
            "\u001b[?25hCollecting requests-toolbelt<2.0.0,>=1.0.0 (from langsmith<0.2.0,>=0.1.17->langchain)\n",
            "  Downloading requests_toolbelt-1.0.0-py2.py3-none-any.whl.metadata (14 kB)\n",
            "Requirement already satisfied: annotated-types>=0.6.0 in /usr/local/lib/python3.10/dist-packages (from pydantic<3.0.0,>=2.7.4->langchain) (0.7.0)\n",
            "Requirement already satisfied: pydantic-core==2.23.4 in /usr/local/lib/python3.10/dist-packages (from pydantic<3.0.0,>=2.7.4->langchain) (2.23.4)\n",
            "Requirement already satisfied: charset-normalizer<4,>=2 in /usr/local/lib/python3.10/dist-packages (from requests->transformers) (3.3.2)\n",
            "Requirement already satisfied: idna<4,>=2.5 in /usr/local/lib/python3.10/dist-packages (from requests->transformers) (3.10)\n",
            "Requirement already satisfied: urllib3<3,>=1.21.1 in /usr/local/lib/python3.10/dist-packages (from requests->transformers) (2.2.3)\n",
            "Requirement already satisfied: certifi>=2017.4.17 in /usr/local/lib/python3.10/dist-packages (from requests->transformers) (2024.8.30)\n",
            "Requirement already satisfied: greenlet!=0.4.17 in /usr/local/lib/python3.10/dist-packages (from SQLAlchemy<3,>=1.4->langchain) (3.1.1)\n",
            "Requirement already satisfied: MarkupSafe>=2.0 in /usr/local/lib/python3.10/dist-packages (from jinja2->torch) (2.1.5)\n",
            "Requirement already satisfied: mpmath<1.4,>=1.1.0 in /usr/local/lib/python3.10/dist-packages (from sympy->torch) (1.3.0)\n",
            "Requirement already satisfied: anyio in /usr/local/lib/python3.10/dist-packages (from httpx<1,>=0.23.0->langsmith<0.2.0,>=0.1.17->langchain) (3.7.1)\n",
            "Collecting httpcore==1.* (from httpx<1,>=0.23.0->langsmith<0.2.0,>=0.1.17->langchain)\n",
            "  Downloading httpcore-1.0.6-py3-none-any.whl.metadata (21 kB)\n",
            "Requirement already satisfied: sniffio in /usr/local/lib/python3.10/dist-packages (from httpx<1,>=0.23.0->langsmith<0.2.0,>=0.1.17->langchain) (1.3.1)\n",
            "Collecting h11<0.15,>=0.13 (from httpcore==1.*->httpx<1,>=0.23.0->langsmith<0.2.0,>=0.1.17->langchain)\n",
            "  Downloading h11-0.14.0-py3-none-any.whl.metadata (8.2 kB)\n",
            "Collecting jsonpointer>=1.9 (from jsonpatch<2.0,>=1.33->langchain-core<0.4.0,>=0.3.10->langchain)\n",
            "  Downloading jsonpointer-3.0.0-py2.py3-none-any.whl.metadata (2.3 kB)\n",
            "Requirement already satisfied: exceptiongroup in /usr/local/lib/python3.10/dist-packages (from anyio->httpx<1,>=0.23.0->langsmith<0.2.0,>=0.1.17->langchain) (1.2.2)\n",
            "Downloading langchain-0.3.3-py3-none-any.whl (1.0 MB)\n",
            "\u001b[2K   \u001b[90m━━━━━━━━━━━━━━━━━━━━━━━━━━━━━━━━━━━━━━━━\u001b[0m \u001b[32m1.0/1.0 MB\u001b[0m \u001b[31m14.4 MB/s\u001b[0m eta \u001b[36m0:00:00\u001b[0m\n",
            "\u001b[?25hDownloading langchain_core-0.3.10-py3-none-any.whl (404 kB)\n",
            "\u001b[2K   \u001b[90m━━━━━━━━━━━━━━━━━━━━━━━━━━━━━━━━━━━━━━━━\u001b[0m \u001b[32m404.4/404.4 kB\u001b[0m \u001b[31m19.9 MB/s\u001b[0m eta \u001b[36m0:00:00\u001b[0m\n",
            "\u001b[?25hDownloading langchain_text_splitters-0.3.0-py3-none-any.whl (25 kB)\n",
            "Downloading langsmith-0.1.132-py3-none-any.whl (294 kB)\n",
            "\u001b[2K   \u001b[90m━━━━━━━━━━━━━━━━━━━━━━━━━━━━━━━━━━━━━━━━\u001b[0m \u001b[32m294.6/294.6 kB\u001b[0m \u001b[31m15.0 MB/s\u001b[0m eta \u001b[36m0:00:00\u001b[0m\n",
            "\u001b[?25hDownloading tenacity-8.5.0-py3-none-any.whl (28 kB)\n",
            "Downloading httpx-0.27.2-py3-none-any.whl (76 kB)\n",
            "\u001b[2K   \u001b[90m━━━━━━━━━━━━━━━━━━━━━━━━━━━━━━━━━━━━━━━━\u001b[0m \u001b[32m76.4/76.4 kB\u001b[0m \u001b[31m4.4 MB/s\u001b[0m eta \u001b[36m0:00:00\u001b[0m\n",
            "\u001b[?25hDownloading httpcore-1.0.6-py3-none-any.whl (78 kB)\n",
            "\u001b[2K   \u001b[90m━━━━━━━━━━━━━━━━━━━━━━━━━━━━━━━━━━━━━━━━\u001b[0m \u001b[32m78.0/78.0 kB\u001b[0m \u001b[31m5.2 MB/s\u001b[0m eta \u001b[36m0:00:00\u001b[0m\n",
            "\u001b[?25hDownloading jsonpatch-1.33-py2.py3-none-any.whl (12 kB)\n",
            "Downloading orjson-3.10.7-cp310-cp310-manylinux_2_17_x86_64.manylinux2014_x86_64.whl (141 kB)\n",
            "\u001b[2K   \u001b[90m━━━━━━━━━━━━━━━━━━━━━━━━━━━━━━━━━━━━━━━━\u001b[0m \u001b[32m141.9/141.9 kB\u001b[0m \u001b[31m8.9 MB/s\u001b[0m eta \u001b[36m0:00:00\u001b[0m\n",
            "\u001b[?25hDownloading requests_toolbelt-1.0.0-py2.py3-none-any.whl (54 kB)\n",
            "\u001b[2K   \u001b[90m━━━━━━━━━━━━━━━━━━━━━━━━━━━━━━━━━━━━━━━━\u001b[0m \u001b[32m54.5/54.5 kB\u001b[0m \u001b[31m3.0 MB/s\u001b[0m eta \u001b[36m0:00:00\u001b[0m\n",
            "\u001b[?25hDownloading jsonpointer-3.0.0-py2.py3-none-any.whl (7.6 kB)\n",
            "Downloading h11-0.14.0-py3-none-any.whl (58 kB)\n",
            "\u001b[2K   \u001b[90m━━━━━━━━━━━━━━━━━━━━━━━━━━━━━━━━━━━━━━━━\u001b[0m \u001b[32m58.3/58.3 kB\u001b[0m \u001b[31m3.9 MB/s\u001b[0m eta \u001b[36m0:00:00\u001b[0m\n",
            "\u001b[?25hInstalling collected packages: tenacity, orjson, jsonpointer, h11, requests-toolbelt, jsonpatch, httpcore, httpx, langsmith, langchain-core, langchain-text-splitters, langchain\n",
            "  Attempting uninstall: tenacity\n",
            "    Found existing installation: tenacity 9.0.0\n",
            "    Uninstalling tenacity-9.0.0:\n",
            "      Successfully uninstalled tenacity-9.0.0\n",
            "Successfully installed h11-0.14.0 httpcore-1.0.6 httpx-0.27.2 jsonpatch-1.33 jsonpointer-3.0.0 langchain-0.3.3 langchain-core-0.3.10 langchain-text-splitters-0.3.0 langsmith-0.1.132 orjson-3.10.7 requests-toolbelt-1.0.0 tenacity-8.5.0\n",
            "Collecting faiss-cpu\n",
            "  Downloading faiss_cpu-1.9.0-cp310-cp310-manylinux_2_17_x86_64.manylinux2014_x86_64.whl.metadata (4.4 kB)\n",
            "Collecting rank_bm25\n",
            "  Downloading rank_bm25-0.2.2-py3-none-any.whl.metadata (3.2 kB)\n",
            "Requirement already satisfied: numpy<3.0,>=1.25.0 in /usr/local/lib/python3.10/dist-packages (from faiss-cpu) (1.26.4)\n",
            "Requirement already satisfied: packaging in /usr/local/lib/python3.10/dist-packages (from faiss-cpu) (24.1)\n",
            "Downloading faiss_cpu-1.9.0-cp310-cp310-manylinux_2_17_x86_64.manylinux2014_x86_64.whl (27.5 MB)\n",
            "\u001b[2K   \u001b[90m━━━━━━━━━━━━━━━━━━━━━━━━━━━━━━━━━━━━━━━━\u001b[0m \u001b[32m27.5/27.5 MB\u001b[0m \u001b[31m42.0 MB/s\u001b[0m eta \u001b[36m0:00:00\u001b[0m\n",
            "\u001b[?25hDownloading rank_bm25-0.2.2-py3-none-any.whl (8.6 kB)\n",
            "Installing collected packages: rank_bm25, faiss-cpu\n",
            "Successfully installed faiss-cpu-1.9.0 rank_bm25-0.2.2\n"
          ]
        }
      ]
    },
    {
      "cell_type": "code",
      "source": [
        "!pip install pytesseract PyPDF2 imutils\n",
        "import pytesseract\n",
        "from PIL import Image\n",
        "import PyPDF2\n",
        "import imutils\n"
      ],
      "metadata": {
        "colab": {
          "base_uri": "https://localhost:8080/"
        },
        "id": "KfksOx1wakFA",
        "outputId": "0b06a8b3-85cc-4cff-b324-5323f347ee71"
      },
      "execution_count": 2,
      "outputs": [
        {
          "output_type": "stream",
          "name": "stdout",
          "text": [
            "Collecting pytesseract\n",
            "  Downloading pytesseract-0.3.13-py3-none-any.whl.metadata (11 kB)\n",
            "Collecting PyPDF2\n",
            "  Downloading pypdf2-3.0.1-py3-none-any.whl.metadata (6.8 kB)\n",
            "Requirement already satisfied: imutils in /usr/local/lib/python3.10/dist-packages (0.5.4)\n",
            "Requirement already satisfied: packaging>=21.3 in /usr/local/lib/python3.10/dist-packages (from pytesseract) (24.1)\n",
            "Requirement already satisfied: Pillow>=8.0.0 in /usr/local/lib/python3.10/dist-packages (from pytesseract) (10.4.0)\n",
            "Downloading pytesseract-0.3.13-py3-none-any.whl (14 kB)\n",
            "Downloading pypdf2-3.0.1-py3-none-any.whl (232 kB)\n",
            "\u001b[2K   \u001b[90m━━━━━━━━━━━━━━━━━━━━━━━━━━━━━━━━━━━━━━━━\u001b[0m \u001b[32m232.6/232.6 kB\u001b[0m \u001b[31m5.9 MB/s\u001b[0m eta \u001b[36m0:00:00\u001b[0m\n",
            "\u001b[?25hInstalling collected packages: pytesseract, PyPDF2\n",
            "Successfully installed PyPDF2-3.0.1 pytesseract-0.3.13\n"
          ]
        }
      ]
    },
    {
      "cell_type": "code",
      "source": [
        "pdf_path=\"/content/hindi-pdf.pdf\""
      ],
      "metadata": {
        "id": "pQLUow-N2YRp"
      },
      "execution_count": 3,
      "outputs": []
    },
    {
      "cell_type": "code",
      "execution_count": 4,
      "metadata": {
        "id": "Be0egKN6D8X4"
      },
      "outputs": [],
      "source": [
        "def detect_pdf_type(pdf_path):\n",
        "\n",
        "    with open(pdf_path, 'rb') as pdf_file:\n",
        "        pdf_reader = PyPDF2.PdfReader(pdf_file)\n",
        "        page = pdf_reader.pages[0]\n",
        "        text = page.extract_text()\n",
        "        if text:\n",
        "            return 'text'\n",
        "        else:\n",
        "            return 'image'"
      ]
    },
    {
      "cell_type": "code",
      "source": [
        "def extract_text_from_pdf(pdf_path):\n",
        "\n",
        "    with open(pdf_path, 'rb') as pdf_file:\n",
        "        pdf_reader = PyPDF2.PdfReader(pdf_file)\n",
        "        text = ''\n",
        "        for page_num in range(len(pdf_reader.pages)):\n",
        "            page = pdf_reader.pages[page_num]\n",
        "            text += page.extract_text()\n",
        "    return text\n",
        "\n"
      ],
      "metadata": {
        "id": "LNVtidHtEFbP"
      },
      "execution_count": 5,
      "outputs": []
    },
    {
      "cell_type": "code",
      "source": [
        "def extract_text_from_image(image_path):\n",
        "\n",
        "    image = Image.open(image_path)\n",
        "    text = pytesseract.image_to_string(image)\n",
        "    return text"
      ],
      "metadata": {
        "id": "-LbjnxsDELw5"
      },
      "execution_count": 6,
      "outputs": []
    },
    {
      "cell_type": "code",
      "source": [
        "if detect_pdf_type(pdf_path) == 'text':\n",
        "    pdf_text = extract_text_from_pdf(pdf_path)\n",
        "else:\n",
        "    pdf_text = extract_text_from_image(pdf_path)"
      ],
      "metadata": {
        "id": "dQ5bolS13nJg"
      },
      "execution_count": 7,
      "outputs": []
    },
    {
      "cell_type": "code",
      "source": [
        "from langchain.text_splitter import RecursiveCharacterTextSplitter\n",
        "text_splitter = RecursiveCharacterTextSplitter(\n",
        "    chunk_size=800,\n",
        "    chunk_overlap=200,\n",
        ")"
      ],
      "metadata": {
        "id": "FOdtaXPDGI8Q"
      },
      "execution_count": 8,
      "outputs": []
    },
    {
      "cell_type": "code",
      "source": [
        "text_chunks=text_splitter.split_text(pdf_text)\n"
      ],
      "metadata": {
        "id": "o85RmLcDS1N9"
      },
      "execution_count": 9,
      "outputs": []
    },
    {
      "cell_type": "code",
      "source": [
        "text_chunks[0]"
      ],
      "metadata": {
        "colab": {
          "base_uri": "https://localhost:8080/",
          "height": 125
        },
        "id": "eYocmNyGrIve",
        "outputId": "47b0add6-08b2-4836-e19f-bd0e7ea07b0f"
      },
      "execution_count": 10,
      "outputs": [
        {
          "output_type": "execute_result",
          "data": {
            "text/plain": [
              "'आ\"ट$%फ\\'शयल इंटे\\'लज/स: एक नया युग आिट र् िफिशयल इंटेिलजेंस (AI) या क ृ ित्रम बुिद्धमत्ता, मानव बुिद्ध के कु छ पहलुओं को क ं प्यूटर प्रणािलयों में अनुकरण करने का प्रयास है। यह क ं प्यूटरों को सीखने, तक र् करने, समस्या हल करने और िनणर्य लेने की क्षमता प्रदान करता है। AI तेजी से हमारे जीवन के िविभन्न क्षेत्रों में प्रवेश कर रहा है, िजससे हमारे काम करने, खेलने और रहने के तरीक े में क्रांितकारी पिरवतर्न हो रहा है। AI के प्रकार AI को मुख्य रूप से दो प्रकारों में वगीर्क ृ त िकया जा सकता है: • तंग AI (Narrow AI): यह एक िविशष्ट कायर् के िलए िडज़ाइन िकया गया AI है, जैसे िक चेहरा पहचानना, शतरंज खेलना या वेबसाइटों का अनुवाद करना। • सामान्य AI (General AI): यह मानव बुिद्ध के समान व्यापक क्षमताओं वाला AI है, जो िकसी भी बौिद्धक कायर् को कर सकता है। AI के अनुप्रयोग AI का उपयोग कई क्षेत्रों में िकया जा रहा'"
            ],
            "application/vnd.google.colaboratory.intrinsic+json": {
              "type": "string"
            }
          },
          "metadata": {},
          "execution_count": 10
        }
      ]
    },
    {
      "cell_type": "code",
      "source": [
        "from transformers import AutoTokenizer, AutoModel\n",
        "import torch\n",
        "\n",
        "model_name = \"bert-base-multilingual-cased\"\n",
        "tokenizer = AutoTokenizer.from_pretrained(model_name)\n",
        "model = AutoModel.from_pretrained(model_name)\n",
        "\n",
        "def generate_embeddings(text_chunk):\n",
        "    inputs = tokenizer(text_chunk, return_tensors=\"pt\", truncation=True, padding=True)\n",
        "    with torch.no_grad():\n",
        "        outputs = model(**inputs)\n",
        "\n",
        "    embeddings = outputs.last_hidden_state.mean(dim=1).squeeze().numpy()\n",
        "    return embeddings\n",
        "chunk_embeddings = [generate_embeddings(chunk) for chunk in text_chunks]\n",
        "#print(\"Generated Embeddings for All Chunks:\", chunk_embeddings)\n"
      ],
      "metadata": {
        "colab": {
          "base_uri": "https://localhost:8080/",
          "height": 340,
          "referenced_widgets": [
            "22731ff5f7844586b3056d373a3c5023",
            "dfb882469d4a45bcbfc176871a9344cd",
            "0b901738b7cb44c59dba2d43c8610505",
            "47da049b25c7499e84078785bfc9fc99",
            "5e9c51f8c26e4bc18fa10c100a74a368",
            "e43524a08c0640f98ab73b648ade020f",
            "07571040cd164232aa600d975b18e3e7",
            "3b244ebd86414844b90890fc71ca6dac",
            "084e31a1cafb4a73b07ca91611f37119",
            "0c0b40e25bad46a695c70486aafa64e2",
            "f09cf7998cc74e29b4cae22d37f9b1bf",
            "f9efd283ef3d435b86a3b52c8008248e",
            "21d781a5c29e4dedb1d76973d9d3ff5d",
            "c4a7e7e958ad4f8faa3d6b234b8db1d1",
            "efe87817cf654a9aa08a0c66defde233",
            "0abf5abf31114aa497684c19ad1a8c7c",
            "dfdc5929cc6f46daaaf6d17de5a13ee9",
            "cfbd3a1706d74ce4bb75ecd80ba7bb78",
            "68e3fcb6f98849b2a79ab77b00952694",
            "589abf928fbf408494a7b270860bfe34",
            "19184ae2bd44443fb6de83ee6f2b673e",
            "3b42faa0c6484cf8b612e5bc8f0e2ebc",
            "e3e5a960f4324db4887fd73e74b8233a",
            "0f598187e92a43548bfdc003141e2ec7",
            "aeead479c33b402db720fea88e04dcb6",
            "411f2c4956634d4c83ac7f45c0c3a308",
            "60a188957fa44804a64c3e83bdce50d3",
            "0b0949b9347d4884a5730796cfd0fcff",
            "bb34e6031f8f498baba52053fa8afe23",
            "bcfe2dcf94b448b2ba7b584343b02f92",
            "2958101563cf4f3a91dab1ed76cec72b",
            "d28cae91435445ada8a5a0214fdec356",
            "3733e9bf45fe411e87d76230590755ef",
            "f63ce348a27843e1b4e9d92965cfb12f",
            "10f94c6d12334f8fa02747375cdfc4a2",
            "bccb6e3113464b15bede1a467405cb9b",
            "152564a1db6941e982c893804136d5ec",
            "5662f7bc5364474c8fdbce4fe1269fc0",
            "abdd9c84d6304a199021264cacb46d34",
            "5e4ff99a0dc04ba491ab8abb17949ce1",
            "111d4f9241b042c7948f221299164809",
            "156ea90cf1ee4dd28cbf5406f976cea3",
            "b2c4a2d670384b1292e8e481010f37bf",
            "bf107a9eac894c7990b0e3c09a742a3c",
            "57fec984d54b42aa8d3259a3bc2e7abc",
            "762cea8e843f41039efd4f5c32db4f91",
            "d236f697c7db42e388fbeab5ad470243",
            "8aa238ccde03467aa99d47001303838c",
            "f1dd332ffa714b6d81d5dba88c18298a",
            "59e20daf391745ec86c8567b5966b4d4",
            "7e4481f046c74eca83d8d1eee0e2cd7f",
            "ce9225b423d44e23ba5c86100e06ef31",
            "6455f4bde2b9461c96fe65a573e809a6",
            "2ca722d425524cd29d7cd01b2e70cb37",
            "e80558bafa7843c38b9e504f48dd82f8"
          ]
        },
        "id": "RDGlg9MlT0ix",
        "outputId": "61ebc04c-4b9a-4448-fe1a-7ec8724311de"
      },
      "execution_count": 11,
      "outputs": [
        {
          "output_type": "stream",
          "name": "stderr",
          "text": [
            "/usr/local/lib/python3.10/dist-packages/huggingface_hub/utils/_token.py:89: UserWarning: \n",
            "The secret `HF_TOKEN` does not exist in your Colab secrets.\n",
            "To authenticate with the Hugging Face Hub, create a token in your settings tab (https://huggingface.co/settings/tokens), set it as secret in your Google Colab and restart your session.\n",
            "You will be able to reuse this secret in all of your notebooks.\n",
            "Please note that authentication is recommended but still optional to access public models or datasets.\n",
            "  warnings.warn(\n"
          ]
        },
        {
          "output_type": "display_data",
          "data": {
            "text/plain": [
              "tokenizer_config.json:   0%|          | 0.00/49.0 [00:00<?, ?B/s]"
            ],
            "application/vnd.jupyter.widget-view+json": {
              "version_major": 2,
              "version_minor": 0,
              "model_id": "22731ff5f7844586b3056d373a3c5023"
            }
          },
          "metadata": {}
        },
        {
          "output_type": "display_data",
          "data": {
            "text/plain": [
              "config.json:   0%|          | 0.00/625 [00:00<?, ?B/s]"
            ],
            "application/vnd.jupyter.widget-view+json": {
              "version_major": 2,
              "version_minor": 0,
              "model_id": "f9efd283ef3d435b86a3b52c8008248e"
            }
          },
          "metadata": {}
        },
        {
          "output_type": "display_data",
          "data": {
            "text/plain": [
              "vocab.txt:   0%|          | 0.00/996k [00:00<?, ?B/s]"
            ],
            "application/vnd.jupyter.widget-view+json": {
              "version_major": 2,
              "version_minor": 0,
              "model_id": "e3e5a960f4324db4887fd73e74b8233a"
            }
          },
          "metadata": {}
        },
        {
          "output_type": "display_data",
          "data": {
            "text/plain": [
              "tokenizer.json:   0%|          | 0.00/1.96M [00:00<?, ?B/s]"
            ],
            "application/vnd.jupyter.widget-view+json": {
              "version_major": 2,
              "version_minor": 0,
              "model_id": "f63ce348a27843e1b4e9d92965cfb12f"
            }
          },
          "metadata": {}
        },
        {
          "output_type": "stream",
          "name": "stderr",
          "text": [
            "/usr/local/lib/python3.10/dist-packages/transformers/tokenization_utils_base.py:1601: FutureWarning: `clean_up_tokenization_spaces` was not set. It will be set to `True` by default. This behavior will be depracted in transformers v4.45, and will be then set to `False` by default. For more details check this issue: https://github.com/huggingface/transformers/issues/31884\n",
            "  warnings.warn(\n"
          ]
        },
        {
          "output_type": "display_data",
          "data": {
            "text/plain": [
              "model.safetensors:   0%|          | 0.00/714M [00:00<?, ?B/s]"
            ],
            "application/vnd.jupyter.widget-view+json": {
              "version_major": 2,
              "version_minor": 0,
              "model_id": "57fec984d54b42aa8d3259a3bc2e7abc"
            }
          },
          "metadata": {}
        }
      ]
    },
    {
      "cell_type": "code",
      "source": [
        "import faiss\n",
        "import numpy as np\n",
        "\n",
        "embedding_dim = chunk_embeddings[0].shape[0]\n",
        "faiss_index = faiss.IndexFlatIP(embedding_dim)\n",
        "\n",
        "normalized_embeddings = [embedding / np.linalg.norm(embedding) for embedding in chunk_embeddings]\n",
        "faiss_index.add(np.array(normalized_embeddings).astype('float32'))\n",
        "print(\"FAISS index populated with embeddings.\")\n"
      ],
      "metadata": {
        "colab": {
          "base_uri": "https://localhost:8080/"
        },
        "id": "8HTdXzsEWjWA",
        "outputId": "134258ae-0158-4b88-ce76-a4393fb0b226"
      },
      "execution_count": 12,
      "outputs": [
        {
          "output_type": "stream",
          "name": "stdout",
          "text": [
            "FAISS index populated with embeddings.\n"
          ]
        }
      ]
    },
    {
      "cell_type": "code",
      "source": [
        "from rank_bm25 import BM25Okapi\n",
        "from nltk.tokenize import word_tokenize\n",
        "import nltk\n",
        "\n",
        "nltk.download('punkt')\n",
        "\n",
        "\n",
        "tokenized_chunks = [word_tokenize(chunk.lower()) for chunk in text_chunks]\n",
        "bm25 = BM25Okapi(tokenized_chunks)\n",
        "print(\"BM25 index created for keyword search.\")\n"
      ],
      "metadata": {
        "colab": {
          "base_uri": "https://localhost:8080/"
        },
        "id": "hOGNWgEhXvOQ",
        "outputId": "98549690-36d3-4228-b34b-2678fb1f36ce"
      },
      "execution_count": 13,
      "outputs": [
        {
          "output_type": "stream",
          "name": "stderr",
          "text": [
            "[nltk_data] Downloading package punkt to /root/nltk_data...\n",
            "[nltk_data]   Unzipping tokenizers/punkt.zip.\n"
          ]
        },
        {
          "output_type": "stream",
          "name": "stdout",
          "text": [
            "BM25 index created for keyword search.\n"
          ]
        }
      ]
    },
    {
      "cell_type": "code",
      "source": [
        "def hybrid_search(query, top_k=5):\n",
        "    query_embedding = generate_embeddings(query)\n",
        "    normalized_query_embedding = query_embedding / np.linalg.norm(query_embedding)\n",
        "\n",
        "    # Vector search with FAISS\n",
        "    _, faiss_indices = faiss_index.search(np.array([normalized_query_embedding]).astype('float32'), top_k)\n",
        "\n",
        "    # Keyword search with BM25\n",
        "    tokenized_query = word_tokenize(query.lower())\n",
        "    bm25_scores = bm25.get_scores(tokenized_query)\n",
        "    bm25_indices = np.argsort(bm25_scores)[-top_k:][::-1]\n",
        "\n",
        "    # Combine FAISS and BM25 results with equal weighting\n",
        "    combined_indices = list(set(faiss_indices[0]) | set(bm25_indices))\n",
        "    return combined_indices\n",
        "\n",
        "query = \"AI के प्रकार\"\n",
        "retrieved_indices = hybrid_search(query)\n",
        "retrieved_chunks = [text_chunks[i] for i in retrieved_indices]\n",
        "print(\"Retrieved Chunks:\", retrieved_chunks)\n"
      ],
      "metadata": {
        "colab": {
          "base_uri": "https://localhost:8080/"
        },
        "id": "VvwhQlFpWavP",
        "outputId": "f7d4fa28-4192-4fb2-fee1-be73ae909fb7"
      },
      "execution_count": 14,
      "outputs": [
        {
          "output_type": "stream",
          "name": "stdout",
          "text": [
            "Retrieved Chunks: ['आ\"ट$%फ\\'शयल इंटे\\'लज/स: एक नया युग आिट र् िफिशयल इंटेिलजेंस (AI) या क ृ ित्रम बुिद्धमत्ता, मानव बुिद्ध के कु छ पहलुओं को क ं प्यूटर प्रणािलयों में अनुकरण करने का प्रयास है। यह क ं प्यूटरों को सीखने, तक र् करने, समस्या हल करने और िनणर्य लेने की क्षमता प्रदान करता है। AI तेजी से हमारे जीवन के िविभन्न क्षेत्रों में प्रवेश कर रहा है, िजससे हमारे काम करने, खेलने और रहने के तरीक े में क्रांितकारी पिरवतर्न हो रहा है। AI के प्रकार AI को मुख्य रूप से दो प्रकारों में वगीर्क ृ त िकया जा सकता है: • तंग AI (Narrow AI): यह एक िविशष्ट कायर् के िलए िडज़ाइन िकया गया AI है, जैसे िक चेहरा पहचानना, शतरंज खेलना या वेबसाइटों का अनुवाद करना। • सामान्य AI (General AI): यह मानव बुिद्ध के समान व्यापक क्षमताओं वाला AI है, जो िकसी भी बौिद्धक कायर् को कर सकता है। AI के अनुप्रयोग AI का उपयोग कई क्षेत्रों में िकया जा रहा', 'का अनुवाद करना। • सामान्य AI (General AI): यह मानव बुिद्ध के समान व्यापक क्षमताओं वाला AI है, जो िकसी भी बौिद्धक कायर् को कर सकता है। AI के अनुप्रयोग AI का उपयोग कई क्षेत्रों में िकया जा रहा है, िजनमें शािमल हैं: • स्वास्थ्य: रोग िनदान, दवा खोज, और व्यिक्तगत िचिकत्सा योजना बनाने के िलए। • िवत्त: धोखाधड़ी का पता लगाने, जोिखम मूल्यांकन और व्यापािरक िनणर्य लेने के िलए। • उत्पादन: गुणवत्ता िनयंत्रण, स्वचािलत उत्पादन प्रिक्रयाएं और आपूित र् श्रृंखला प्रबंधन के िलए। • पिरवहन: स्वायत्त वाहनों, यातायात प्रबंधन और यात्री अनुभव सुधार के िलए। • मनोरंजन: वीिडयो गेम, िसनेमा और संगीत िनमार्ण में। AI के चुनौितयाँ AI के साथ भी कु छ चुनौितयाँ जुड़ी हुई हैं, जैसे िक: • नैितकता: AI का उपयोग नैितक रूप से क ै से िकया जाए, यह एक महत्वपूणर् प्रश्न है। • िनष्पक्षता: AI िसस्टम को िनष्पक्ष और पक्षपाती रिहत बनाना', 'AI के साथ भी कु छ चुनौितयाँ जुड़ी हुई हैं, जैसे िक: • नैितकता: AI का उपयोग नैितक रूप से क ै से िकया जाए, यह एक महत्वपूणर् प्रश्न है। • िनष्पक्षता: AI िसस्टम को िनष्पक्ष और पक्षपाती रिहत बनाना चुनौतीपूणर् हो सकता है। • रोजगार: AI के बढ़ते उपयोग से कु छ नौकिरयों में बदलाव या हािन हो सकती है। िनष्कषर् AI एक तेजी से िवकिसत हो रहा क्षेत्र है, जो हमारे जीवन में कई तरह से प्रभाव डाल रहा है। इसक े लाभों के साथ-साथ चुनौितयों का भी सामना करना होगा। भिवष्य में, AI की प्रगित से और अिधक आश्चयर्जनक िवकास और अनुप्रयोगों की उम्मीद की जा सकती है।', 'AI के साथ भी कु छ चुनौितयाँ जुड़ी हुई हैं, जैसे िक: • नैितकता: AI का उपयोग नैितक रूप से क ै से िकया जाए, यह एक महत्वपूणर् प्रश्न है। • िनष्पक्षता: AI िसस्टम को िनष्पक्ष और पक्षपाती रिहत बनाना चुनौतीपूणर् हो सकता है। • रोजगार: AI के बढ़ते उपयोग से कु छ नौकिरयों में बदलाव या हािन हो सकती है। िनष्कषर् AI एक तेजी से िवकिसत हो रहा क्षेत्र है, जो हमारे जीवन में कई तरह से प्रभाव डाल रहा है। इसक े लाभों के साथ-साथ चुनौितयों का भी सामना करना होगा। भिवष्य में, AI की प्रगित से और अिधक आश्चयर्जनक िवकास और अनुप्रयोगों की उम्मीद की जा सकती है।']\n"
          ]
        }
      ]
    },
    {
      "cell_type": "code",
      "source": [
        "retrieved_indices=hybrid_search(query)\n",
        "retrived_chunks = [text_chunks[i] for i in retrieved_indices]\n",
        "candidate_embeddings = [normalized_embeddings[i] for i in retrieved_indices]\n",
        "print(\"Retrieved Chunks:\", retrieved_chunks)"
      ],
      "metadata": {
        "colab": {
          "base_uri": "https://localhost:8080/"
        },
        "id": "rK26HKKqjZ9f",
        "outputId": "4258a2c3-76ac-4947-93a7-16a65cb024f5"
      },
      "execution_count": 15,
      "outputs": [
        {
          "output_type": "stream",
          "name": "stdout",
          "text": [
            "Retrieved Chunks: ['आ\"ट$%फ\\'शयल इंटे\\'लज/स: एक नया युग आिट र् िफिशयल इंटेिलजेंस (AI) या क ृ ित्रम बुिद्धमत्ता, मानव बुिद्ध के कु छ पहलुओं को क ं प्यूटर प्रणािलयों में अनुकरण करने का प्रयास है। यह क ं प्यूटरों को सीखने, तक र् करने, समस्या हल करने और िनणर्य लेने की क्षमता प्रदान करता है। AI तेजी से हमारे जीवन के िविभन्न क्षेत्रों में प्रवेश कर रहा है, िजससे हमारे काम करने, खेलने और रहने के तरीक े में क्रांितकारी पिरवतर्न हो रहा है। AI के प्रकार AI को मुख्य रूप से दो प्रकारों में वगीर्क ृ त िकया जा सकता है: • तंग AI (Narrow AI): यह एक िविशष्ट कायर् के िलए िडज़ाइन िकया गया AI है, जैसे िक चेहरा पहचानना, शतरंज खेलना या वेबसाइटों का अनुवाद करना। • सामान्य AI (General AI): यह मानव बुिद्ध के समान व्यापक क्षमताओं वाला AI है, जो िकसी भी बौिद्धक कायर् को कर सकता है। AI के अनुप्रयोग AI का उपयोग कई क्षेत्रों में िकया जा रहा', 'का अनुवाद करना। • सामान्य AI (General AI): यह मानव बुिद्ध के समान व्यापक क्षमताओं वाला AI है, जो िकसी भी बौिद्धक कायर् को कर सकता है। AI के अनुप्रयोग AI का उपयोग कई क्षेत्रों में िकया जा रहा है, िजनमें शािमल हैं: • स्वास्थ्य: रोग िनदान, दवा खोज, और व्यिक्तगत िचिकत्सा योजना बनाने के िलए। • िवत्त: धोखाधड़ी का पता लगाने, जोिखम मूल्यांकन और व्यापािरक िनणर्य लेने के िलए। • उत्पादन: गुणवत्ता िनयंत्रण, स्वचािलत उत्पादन प्रिक्रयाएं और आपूित र् श्रृंखला प्रबंधन के िलए। • पिरवहन: स्वायत्त वाहनों, यातायात प्रबंधन और यात्री अनुभव सुधार के िलए। • मनोरंजन: वीिडयो गेम, िसनेमा और संगीत िनमार्ण में। AI के चुनौितयाँ AI के साथ भी कु छ चुनौितयाँ जुड़ी हुई हैं, जैसे िक: • नैितकता: AI का उपयोग नैितक रूप से क ै से िकया जाए, यह एक महत्वपूणर् प्रश्न है। • िनष्पक्षता: AI िसस्टम को िनष्पक्ष और पक्षपाती रिहत बनाना', 'AI के साथ भी कु छ चुनौितयाँ जुड़ी हुई हैं, जैसे िक: • नैितकता: AI का उपयोग नैितक रूप से क ै से िकया जाए, यह एक महत्वपूणर् प्रश्न है। • िनष्पक्षता: AI िसस्टम को िनष्पक्ष और पक्षपाती रिहत बनाना चुनौतीपूणर् हो सकता है। • रोजगार: AI के बढ़ते उपयोग से कु छ नौकिरयों में बदलाव या हािन हो सकती है। िनष्कषर् AI एक तेजी से िवकिसत हो रहा क्षेत्र है, जो हमारे जीवन में कई तरह से प्रभाव डाल रहा है। इसक े लाभों के साथ-साथ चुनौितयों का भी सामना करना होगा। भिवष्य में, AI की प्रगित से और अिधक आश्चयर्जनक िवकास और अनुप्रयोगों की उम्मीद की जा सकती है।', 'AI के साथ भी कु छ चुनौितयाँ जुड़ी हुई हैं, जैसे िक: • नैितकता: AI का उपयोग नैितक रूप से क ै से िकया जाए, यह एक महत्वपूणर् प्रश्न है। • िनष्पक्षता: AI िसस्टम को िनष्पक्ष और पक्षपाती रिहत बनाना चुनौतीपूणर् हो सकता है। • रोजगार: AI के बढ़ते उपयोग से कु छ नौकिरयों में बदलाव या हािन हो सकती है। िनष्कषर् AI एक तेजी से िवकिसत हो रहा क्षेत्र है, जो हमारे जीवन में कई तरह से प्रभाव डाल रहा है। इसक े लाभों के साथ-साथ चुनौितयों का भी सामना करना होगा। भिवष्य में, AI की प्रगित से और अिधक आश्चयर्जनक िवकास और अनुप्रयोगों की उम्मीद की जा सकती है।']\n"
          ]
        }
      ]
    },
    {
      "cell_type": "code",
      "source": [
        "from sklearn.metrics.pairwise import cosine_similarity\n",
        "\n",
        "def rerank_chunks(query, candidate_chunks, candidate_embeddings):\n",
        "    query_embedding = generate_embeddings(query)\n",
        "\n",
        "    similarities = cosine_similarity([query_embedding], candidate_embeddings)\n",
        "    ranked_indices = np.argsort(similarities[0])[::-1]\n",
        "    ranked_chunks = [candidate_chunks[i] for i in ranked_indices]\n",
        "    return ranked_chunks\n",
        "candidate_embeddings = [normalized_embeddings[i] for i in retrieved_indices]\n",
        "ranked_chunks = rerank_chunks(query, retrieved_chunks, candidate_embeddings)\n",
        "print(\"Ranked Chunks:\", ranked_chunks)\n"
      ],
      "metadata": {
        "colab": {
          "base_uri": "https://localhost:8080/"
        },
        "id": "Ac6SjCQmX-pN",
        "outputId": "18acf240-0c4d-4f2c-f664-ed1bd00c92af"
      },
      "execution_count": 16,
      "outputs": [
        {
          "output_type": "stream",
          "name": "stdout",
          "text": [
            "Ranked Chunks: ['AI के साथ भी कु छ चुनौितयाँ जुड़ी हुई हैं, जैसे िक: • नैितकता: AI का उपयोग नैितक रूप से क ै से िकया जाए, यह एक महत्वपूणर् प्रश्न है। • िनष्पक्षता: AI िसस्टम को िनष्पक्ष और पक्षपाती रिहत बनाना चुनौतीपूणर् हो सकता है। • रोजगार: AI के बढ़ते उपयोग से कु छ नौकिरयों में बदलाव या हािन हो सकती है। िनष्कषर् AI एक तेजी से िवकिसत हो रहा क्षेत्र है, जो हमारे जीवन में कई तरह से प्रभाव डाल रहा है। इसक े लाभों के साथ-साथ चुनौितयों का भी सामना करना होगा। भिवष्य में, AI की प्रगित से और अिधक आश्चयर्जनक िवकास और अनुप्रयोगों की उम्मीद की जा सकती है।', 'AI के साथ भी कु छ चुनौितयाँ जुड़ी हुई हैं, जैसे िक: • नैितकता: AI का उपयोग नैितक रूप से क ै से िकया जाए, यह एक महत्वपूणर् प्रश्न है। • िनष्पक्षता: AI िसस्टम को िनष्पक्ष और पक्षपाती रिहत बनाना चुनौतीपूणर् हो सकता है। • रोजगार: AI के बढ़ते उपयोग से कु छ नौकिरयों में बदलाव या हािन हो सकती है। िनष्कषर् AI एक तेजी से िवकिसत हो रहा क्षेत्र है, जो हमारे जीवन में कई तरह से प्रभाव डाल रहा है। इसक े लाभों के साथ-साथ चुनौितयों का भी सामना करना होगा। भिवष्य में, AI की प्रगित से और अिधक आश्चयर्जनक िवकास और अनुप्रयोगों की उम्मीद की जा सकती है।', 'आ\"ट$%फ\\'शयल इंटे\\'लज/स: एक नया युग आिट र् िफिशयल इंटेिलजेंस (AI) या क ृ ित्रम बुिद्धमत्ता, मानव बुिद्ध के कु छ पहलुओं को क ं प्यूटर प्रणािलयों में अनुकरण करने का प्रयास है। यह क ं प्यूटरों को सीखने, तक र् करने, समस्या हल करने और िनणर्य लेने की क्षमता प्रदान करता है। AI तेजी से हमारे जीवन के िविभन्न क्षेत्रों में प्रवेश कर रहा है, िजससे हमारे काम करने, खेलने और रहने के तरीक े में क्रांितकारी पिरवतर्न हो रहा है। AI के प्रकार AI को मुख्य रूप से दो प्रकारों में वगीर्क ृ त िकया जा सकता है: • तंग AI (Narrow AI): यह एक िविशष्ट कायर् के िलए िडज़ाइन िकया गया AI है, जैसे िक चेहरा पहचानना, शतरंज खेलना या वेबसाइटों का अनुवाद करना। • सामान्य AI (General AI): यह मानव बुिद्ध के समान व्यापक क्षमताओं वाला AI है, जो िकसी भी बौिद्धक कायर् को कर सकता है। AI के अनुप्रयोग AI का उपयोग कई क्षेत्रों में िकया जा रहा', 'का अनुवाद करना। • सामान्य AI (General AI): यह मानव बुिद्ध के समान व्यापक क्षमताओं वाला AI है, जो िकसी भी बौिद्धक कायर् को कर सकता है। AI के अनुप्रयोग AI का उपयोग कई क्षेत्रों में िकया जा रहा है, िजनमें शािमल हैं: • स्वास्थ्य: रोग िनदान, दवा खोज, और व्यिक्तगत िचिकत्सा योजना बनाने के िलए। • िवत्त: धोखाधड़ी का पता लगाने, जोिखम मूल्यांकन और व्यापािरक िनणर्य लेने के िलए। • उत्पादन: गुणवत्ता िनयंत्रण, स्वचािलत उत्पादन प्रिक्रयाएं और आपूित र् श्रृंखला प्रबंधन के िलए। • पिरवहन: स्वायत्त वाहनों, यातायात प्रबंधन और यात्री अनुभव सुधार के िलए। • मनोरंजन: वीिडयो गेम, िसनेमा और संगीत िनमार्ण में। AI के चुनौितयाँ AI के साथ भी कु छ चुनौितयाँ जुड़ी हुई हैं, जैसे िक: • नैितकता: AI का उपयोग नैितक रूप से क ै से िकया जाए, यह एक महत्वपूणर् प्रश्न है। • िनष्पक्षता: AI िसस्टम को िनष्पक्ष और पक्षपाती रिहत बनाना']\n"
          ]
        }
      ]
    },
    {
      "cell_type": "code",
      "source": [
        "import os\n",
        "import google.generativeai as genai\n",
        "from google.colab import userdata\n",
        "\n",
        "os.environ['GOOGLE_API_KEY'] =userdata.get('google_api_key')\n",
        "genai.configure(api_key=os.environ['GOOGLE_API_KEY'])\n",
        "model = genai.GenerativeModel('gemini-pro')\n",
        "chat_memory = []\n",
        "def generate_gemini_response(query, ranked_chunks,chat_memory,memory_limit=512):\n",
        "    context = \" \".join(ranked_chunks)\n",
        "    memory_text = \" \".join(chat_memory[-memory_limit:])\n",
        "    input_text = (\n",
        "        f\"Conversation history:\\n{memory_text}\\n\\n\"\n",
        "        f\"Query: {query}\\n\"\n",
        "        f\"Context: {context}\\n\"\n",
        "        f\"Response (Please respond in the language of the provided context):\"\n",
        "    )\n",
        "\n",
        "    response = model.generate_content(input_text)\n",
        "    chat_memory.append(f\"User: {query}\")\n",
        "    chat_memory.append(f\"Model: {response.text}\")\n",
        "    return response.text\n",
        "response = generate_gemini_response(query, ranked_chunks,chat_memory)\n",
        "print(\"Generated Response:\", response)\n",
        "query2 = \"सामान्य AI \"\n",
        "response = generate_gemini_response(query2, ranked_chunks, chat_memory)\n",
        "print(\"Generated Response:\", response)"
      ],
      "metadata": {
        "colab": {
          "base_uri": "https://localhost:8080/",
          "height": 73
        },
        "id": "RJqsT4n9Aek-",
        "outputId": "caf76534-dd98-4437-c002-e35ed2c64d81"
      },
      "execution_count": 17,
      "outputs": [
        {
          "output_type": "stream",
          "name": "stdout",
          "text": [
            "Generated Response: एआयचे प्रकार एआयला मुख्यत्वे दोन प्रकारात वर्गीकृत केले जाते: • नॅरो एआय (नॅरो एआय): ही एआय विशिष्ट कार्यासाठी डिझाइन केलेली असते, जसे की चेहरा ओळखणे, बुद्धिबळ खेळणे किंवा वेबसाइटचा अनुवाद करणे. • सामान्य एआय (जनरल एआय): ही मानवी बुद्धिमत्तेच्या समान व्यापक क्षमता असणारी एआय असते, जी कोणतेही बौद्धिक कार्य करू शकते. एआयचे अनुप्रयोग एआयचा उपयोग सध्या अनेक क्षेत्रात केला जात आहे, त्यामध्ये समाविष्ट आहेत: • आरोग्य: रोग निदान, औषध शोध आणि वैयक्तिक वैद्यकीय योजना तयार करण्यासाठी. • वित्त: फसवणूक शोधणे, जोखीम मूल्यांकन आणि व्यापारिक निर्णय घेण्यासाठी. • उत्पादन: गुणवत्ता नियंत्रण, स्वयंचलित उत्पादन प्रक्रिया आणि पुरवठा साखळी व्यवस्थापनासाठी. • परिवहन: स्वायत्त वाहने, वाहतूक व्यवस्थापन आणि प्रवासी अनुभव सुधारण्यासाठी. • मनोरंजन: व्हिडिओ गेम्स, सिनेमा आणि संगीत निर्मितीत. एआयसमोरील आव्हाने एआयसोबत, काही आव्हानेही जोडली आहेत, जसे की: • नीतिमत्ता: एआयचा वापर नैतिकरीत्या कसा करावा, हा एक महत्त्वाचा प्रश्न आहे. • निष्पक्षता: एआय प्रणालींना निष्पक्ष आणि भेदभाव रहित करणे आव्हानात्मक असू शकते. • रोजगार: वाढत्या एआय वापरामुळे काही नोकऱ्यांमध्ये बदल किंवा हानी होऊ शकते. निष्कर्ष एआय हा एक वेगाने विकसित होणारा क्षेत्र आहे, जो आपल्या जीवनावर विविध प्रकारे प्रभाव टाकतो. त्याचे फायदे असले तरी, त्याच्याशी संबंधित आव्हानांनाही सामोरे जावे लागणार आहे. भविष्यात, एआयच्या प्रगतीमुळे अधिक आश्चर्यकारक विकास आणि अनुप्रयोग होण्याची शक्यता आहे.\n",
            "Generated Response: आम AI मानवी बुद्धि जैसी विस्तृत क्षमताओं वाला AI है, जो कोई भी बौद्धिक कार्य कर सकता है।\n"
          ]
        }
      ]
    },
    {
      "cell_type": "markdown",
      "source": [
        "** Below are some other models that were used for retrieval purpose. **"
      ],
      "metadata": {
        "id": "xOh2xVBREcbE"
      }
    },
    {
      "cell_type": "code",
      "source": [
        "'''\n",
        "from transformers import T5Tokenizer, T5ForConditionalGeneration\n",
        "\n",
        "\n",
        "flan_t5_model_name = \"google/flan-t5-base\"\n",
        "flan_t5_tokenizer = T5Tokenizer.from_pretrained(flan_t5_model_name)\n",
        "flan_t5_model = T5ForConditionalGeneration.from_pretrained(flan_t5_model_name)\n",
        "\n",
        "def generate_flan_t5_response(query, ranked_chunks):\n",
        "    context = \" \".join(ranked_chunks)\n",
        "    input_text = f\"question: {query} context: {context}\"\n",
        "\n",
        "    input_ids = flan_t5_tokenizer(input_text, return_tensors=\"pt\", max_length=512, truncation=True, padding=True).input_ids\n",
        "\n",
        "    outputs = flan_t5_model.generate(\n",
        "        input_ids,\n",
        "        max_length=150,\n",
        "        num_beams=7,\n",
        "        early_stopping=True\n",
        "    )\n",
        "    answer = flan_t5_tokenizer.decode(outputs[0], skip_special_tokens=True)\n",
        "    return answer\n",
        "response = generate_flan_t5_response(query, ranked_chunks)\n",
        "print(\"Generated Response:\", response)\n",
        "\n",
        "'''"
      ],
      "metadata": {
        "colab": {
          "base_uri": "https://localhost:8080/"
        },
        "id": "whW5GzX4q1A7",
        "outputId": "d6975234-7816-4db7-e218-7979dfa55bf4"
      },
      "execution_count": 64,
      "outputs": [
        {
          "output_type": "stream",
          "name": "stderr",
          "text": [
            "/usr/local/lib/python3.10/dist-packages/transformers/tokenization_utils_base.py:1601: FutureWarning: `clean_up_tokenization_spaces` was not set. It will be set to `True` by default. This behavior will be depracted in transformers v4.45, and will be then set to `False` by default. For more details check this issue: https://github.com/huggingface/transformers/issues/31884\n",
            "  warnings.warn(\n"
          ]
        },
        {
          "output_type": "stream",
          "name": "stdout",
          "text": [
            "Generated Response: \n"
          ]
        }
      ]
    },
    {
      "cell_type": "code",
      "source": [
        "'''\n",
        "from transformers import MT5ForConditionalGeneration, MT5Tokenizer\n",
        "\n",
        "model_name = \"google/mt5-small\"\n",
        "mt5_tokenizer = MT5Tokenizer.from_pretrained(model_name)\n",
        "mt5_model = MT5ForConditionalGeneration.from_pretrained(model_name)\n",
        "def generate_mt5_response(query, ranked_chunks):\n",
        "\n",
        "    context = \" \".join(ranked_chunks)\n",
        "    input_text = f\"question: {query} context: {context}\"\n",
        "    input_ids = mt5_tokenizer(input_text, return_tensors=\"pt\", truncation=True,max_length=128 ,padding=True).input_ids\n",
        "    outputs = mt5_model.generate(input_ids, max_length=150, num_beams=4, early_stopping=True,temperature= 0.7,top_p=0.9)\n",
        "    answer = mt5_tokenizer.decode(outputs[0], skip_special_tokens=False)\n",
        "    return answer\n",
        "response = generate_mt5_response(query, ranked_chunks)\n",
        "print(\"Generated Response:\", response)\n",
        "'''"
      ],
      "metadata": {
        "colab": {
          "base_uri": "https://localhost:8080/"
        },
        "id": "h_zsPnU3x8fb",
        "outputId": "17f10864-28e9-446c-d692-1c5e2a4a4509"
      },
      "execution_count": 68,
      "outputs": [
        {
          "output_type": "stream",
          "name": "stderr",
          "text": [
            "/usr/local/lib/python3.10/dist-packages/transformers/generation/configuration_utils.py:567: UserWarning: `do_sample` is set to `False`. However, `temperature` is set to `0.7` -- this flag is only used in sample-based generation modes. You should set `do_sample=True` or unset `temperature`.\n",
            "  warnings.warn(\n",
            "/usr/local/lib/python3.10/dist-packages/transformers/generation/configuration_utils.py:572: UserWarning: `do_sample` is set to `False`. However, `top_p` is set to `0.9` -- this flag is only used in sample-based generation modes. You should set `do_sample=True` or unset `top_p`.\n",
            "  warnings.warn(\n"
          ]
        },
        {
          "output_type": "stream",
          "name": "stdout",
          "text": [
            "Generated Response: <pad> <extra_id_0> है।</s>\n"
          ]
        }
      ]
    },
    {
      "cell_type": "code",
      "source": [
        "'''\n",
        "from transformers import MBartForConditionalGeneration, MBart50TokenizerFast\n",
        "\n",
        "mbart_model_name = \"facebook/mbart-large-50-many-to-many-mmt\"\n",
        "mbart_tokenizer = MBart50TokenizerFast.from_pretrained(mbart_model_name)\n",
        "mbart_model = MBartForConditionalGeneration.from_pretrained(mbart_model_name)\n",
        "source_language_code = \"en_XX\"\n",
        "target_language_code = \"en_XX\"\n",
        "\n",
        "def generate_mbart_response(query, ranked_chunks):\n",
        "\n",
        "    context = \" \".join(ranked_chunks)\n",
        "\n",
        "    input_text = \"explain ai\"\n",
        "    mbart_tokenizer.src_lang = source_language_code\n",
        "    input_ids = mbart_tokenizer(input_text, return_tensors=\"pt\", max_length=128, truncation=True, padding=True).input_ids\n",
        "    outputs = mbart_model.generate(\n",
        "        input_ids,\n",
        "        max_length=200,\n",
        "        num_beams=5,\n",
        "        early_stopping=True\n",
        "    )\n",
        "    answer = mbart_tokenizer.decode(outputs[0], skip_special_tokens=True)\n",
        "    return answer\n",
        "response = generate_mbart_response(query, ranked_chunks)\n",
        "print(\"Generated Response:\", response)\n",
        "'''"
      ],
      "metadata": {
        "colab": {
          "base_uri": "https://localhost:8080/"
        },
        "id": "rVPvqbmnXouL",
        "outputId": "7ed3b65b-ecf0-48b9-ae2c-cdbeda0cb952"
      },
      "execution_count": 67,
      "outputs": [
        {
          "output_type": "stream",
          "name": "stdout",
          "text": [
            "Generated Response: explain ai\n"
          ]
        }
      ]
    }
  ]
}